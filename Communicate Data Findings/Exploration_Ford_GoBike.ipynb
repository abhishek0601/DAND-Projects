{
 "cells": [
  {
   "cell_type": "markdown",
   "metadata": {},
   "source": [
    "# Ford Gobike Data Exploration "
   ]
  },
  {
   "cell_type": "markdown",
   "metadata": {},
   "source": [
    "## Investigation Overview\n",
    "\n",
    "In this dataset, I look forward to analyze the characteristics of how time,gender and days would affect the no. of users and no. of trips."
   ]
  },
  {
   "cell_type": "markdown",
   "metadata": {},
   "source": [
    "## Dataset Overview\n",
    "Ford GoBike is a regional public bike sharing system in Bay Area.It started in the year 2013 and has been successfull all over these years.\n",
    "The most important thing is that the bikes are available 24/7 on all the days irrespective of what day it is.There are two types of users, subscribers and general customers."
   ]
  },
  {
   "cell_type": "code",
   "execution_count": 1,
   "metadata": {},
   "outputs": [],
   "source": [
    "#Import packages\n",
    "import numpy as np\n",
    "import pandas as pd\n",
    "import matplotlib.pyplot as plt\n",
    "import seaborn as sns\n",
    "import datetime\n",
    "\n",
    "from os import path, getcwd, makedirs, listdir\n",
    "\n",
    "%matplotlib inline"
   ]
  },
  {
   "cell_type": "markdown",
   "metadata": {},
   "source": [
    "## 1 .Gathering Data"
   ]
  },
  {
   "cell_type": "markdown",
   "metadata": {},
   "source": [
    "The dataset was downloaded from <a href= \"https://s3.amazonaws.com/fordgobike-data/201902-fordgobike-tripdata.csv.zip\">here</a>"
   ]
  },
  {
   "cell_type": "code",
   "execution_count": 2,
   "metadata": {},
   "outputs": [],
   "source": [
    "#Download and read the csv file\n",
    "df = pd.read_csv(\"201902-fordgobike-tripdata.csv\")"
   ]
  },
  {
   "cell_type": "code",
   "execution_count": 3,
   "metadata": {
    "scrolled": true
   },
   "outputs": [
    {
     "data": {
      "text/html": [
       "<div>\n",
       "<style scoped>\n",
       "    .dataframe tbody tr th:only-of-type {\n",
       "        vertical-align: middle;\n",
       "    }\n",
       "\n",
       "    .dataframe tbody tr th {\n",
       "        vertical-align: top;\n",
       "    }\n",
       "\n",
       "    .dataframe thead th {\n",
       "        text-align: right;\n",
       "    }\n",
       "</style>\n",
       "<table border=\"1\" class=\"dataframe\">\n",
       "  <thead>\n",
       "    <tr style=\"text-align: right;\">\n",
       "      <th></th>\n",
       "      <th>duration_sec</th>\n",
       "      <th>start_time</th>\n",
       "      <th>end_time</th>\n",
       "      <th>start_station_id</th>\n",
       "      <th>start_station_name</th>\n",
       "      <th>start_station_latitude</th>\n",
       "      <th>start_station_longitude</th>\n",
       "      <th>end_station_id</th>\n",
       "      <th>end_station_name</th>\n",
       "      <th>end_station_latitude</th>\n",
       "      <th>end_station_longitude</th>\n",
       "      <th>bike_id</th>\n",
       "      <th>user_type</th>\n",
       "      <th>member_birth_year</th>\n",
       "      <th>member_gender</th>\n",
       "      <th>bike_share_for_all_trip</th>\n",
       "    </tr>\n",
       "  </thead>\n",
       "  <tbody>\n",
       "    <tr>\n",
       "      <th>0</th>\n",
       "      <td>52185</td>\n",
       "      <td>2019-02-28 17:32:10.1450</td>\n",
       "      <td>2019-03-01 08:01:55.9750</td>\n",
       "      <td>21.0</td>\n",
       "      <td>Montgomery St BART Station (Market St at 2nd St)</td>\n",
       "      <td>37.789625</td>\n",
       "      <td>-122.400811</td>\n",
       "      <td>13.0</td>\n",
       "      <td>Commercial St at Montgomery St</td>\n",
       "      <td>37.794231</td>\n",
       "      <td>-122.402923</td>\n",
       "      <td>4902</td>\n",
       "      <td>Customer</td>\n",
       "      <td>1984.0</td>\n",
       "      <td>Male</td>\n",
       "      <td>No</td>\n",
       "    </tr>\n",
       "    <tr>\n",
       "      <th>1</th>\n",
       "      <td>42521</td>\n",
       "      <td>2019-02-28 18:53:21.7890</td>\n",
       "      <td>2019-03-01 06:42:03.0560</td>\n",
       "      <td>23.0</td>\n",
       "      <td>The Embarcadero at Steuart St</td>\n",
       "      <td>37.791464</td>\n",
       "      <td>-122.391034</td>\n",
       "      <td>81.0</td>\n",
       "      <td>Berry St at 4th St</td>\n",
       "      <td>37.775880</td>\n",
       "      <td>-122.393170</td>\n",
       "      <td>2535</td>\n",
       "      <td>Customer</td>\n",
       "      <td>NaN</td>\n",
       "      <td>NaN</td>\n",
       "      <td>No</td>\n",
       "    </tr>\n",
       "    <tr>\n",
       "      <th>2</th>\n",
       "      <td>61854</td>\n",
       "      <td>2019-02-28 12:13:13.2180</td>\n",
       "      <td>2019-03-01 05:24:08.1460</td>\n",
       "      <td>86.0</td>\n",
       "      <td>Market St at Dolores St</td>\n",
       "      <td>37.769305</td>\n",
       "      <td>-122.426826</td>\n",
       "      <td>3.0</td>\n",
       "      <td>Powell St BART Station (Market St at 4th St)</td>\n",
       "      <td>37.786375</td>\n",
       "      <td>-122.404904</td>\n",
       "      <td>5905</td>\n",
       "      <td>Customer</td>\n",
       "      <td>1972.0</td>\n",
       "      <td>Male</td>\n",
       "      <td>No</td>\n",
       "    </tr>\n",
       "    <tr>\n",
       "      <th>3</th>\n",
       "      <td>36490</td>\n",
       "      <td>2019-02-28 17:54:26.0100</td>\n",
       "      <td>2019-03-01 04:02:36.8420</td>\n",
       "      <td>375.0</td>\n",
       "      <td>Grove St at Masonic Ave</td>\n",
       "      <td>37.774836</td>\n",
       "      <td>-122.446546</td>\n",
       "      <td>70.0</td>\n",
       "      <td>Central Ave at Fell St</td>\n",
       "      <td>37.773311</td>\n",
       "      <td>-122.444293</td>\n",
       "      <td>6638</td>\n",
       "      <td>Subscriber</td>\n",
       "      <td>1989.0</td>\n",
       "      <td>Other</td>\n",
       "      <td>No</td>\n",
       "    </tr>\n",
       "    <tr>\n",
       "      <th>4</th>\n",
       "      <td>1585</td>\n",
       "      <td>2019-02-28 23:54:18.5490</td>\n",
       "      <td>2019-03-01 00:20:44.0740</td>\n",
       "      <td>7.0</td>\n",
       "      <td>Frank H Ogawa Plaza</td>\n",
       "      <td>37.804562</td>\n",
       "      <td>-122.271738</td>\n",
       "      <td>222.0</td>\n",
       "      <td>10th Ave at E 15th St</td>\n",
       "      <td>37.792714</td>\n",
       "      <td>-122.248780</td>\n",
       "      <td>4898</td>\n",
       "      <td>Subscriber</td>\n",
       "      <td>1974.0</td>\n",
       "      <td>Male</td>\n",
       "      <td>Yes</td>\n",
       "    </tr>\n",
       "  </tbody>\n",
       "</table>\n",
       "</div>"
      ],
      "text/plain": [
       "   duration_sec                start_time                  end_time  \\\n",
       "0         52185  2019-02-28 17:32:10.1450  2019-03-01 08:01:55.9750   \n",
       "1         42521  2019-02-28 18:53:21.7890  2019-03-01 06:42:03.0560   \n",
       "2         61854  2019-02-28 12:13:13.2180  2019-03-01 05:24:08.1460   \n",
       "3         36490  2019-02-28 17:54:26.0100  2019-03-01 04:02:36.8420   \n",
       "4          1585  2019-02-28 23:54:18.5490  2019-03-01 00:20:44.0740   \n",
       "\n",
       "   start_station_id                                start_station_name  \\\n",
       "0              21.0  Montgomery St BART Station (Market St at 2nd St)   \n",
       "1              23.0                     The Embarcadero at Steuart St   \n",
       "2              86.0                           Market St at Dolores St   \n",
       "3             375.0                           Grove St at Masonic Ave   \n",
       "4               7.0                               Frank H Ogawa Plaza   \n",
       "\n",
       "   start_station_latitude  start_station_longitude  end_station_id  \\\n",
       "0               37.789625              -122.400811            13.0   \n",
       "1               37.791464              -122.391034            81.0   \n",
       "2               37.769305              -122.426826             3.0   \n",
       "3               37.774836              -122.446546            70.0   \n",
       "4               37.804562              -122.271738           222.0   \n",
       "\n",
       "                               end_station_name  end_station_latitude  \\\n",
       "0                Commercial St at Montgomery St             37.794231   \n",
       "1                            Berry St at 4th St             37.775880   \n",
       "2  Powell St BART Station (Market St at 4th St)             37.786375   \n",
       "3                        Central Ave at Fell St             37.773311   \n",
       "4                         10th Ave at E 15th St             37.792714   \n",
       "\n",
       "   end_station_longitude  bike_id   user_type  member_birth_year  \\\n",
       "0            -122.402923     4902    Customer             1984.0   \n",
       "1            -122.393170     2535    Customer                NaN   \n",
       "2            -122.404904     5905    Customer             1972.0   \n",
       "3            -122.444293     6638  Subscriber             1989.0   \n",
       "4            -122.248780     4898  Subscriber             1974.0   \n",
       "\n",
       "  member_gender bike_share_for_all_trip  \n",
       "0          Male                      No  \n",
       "1           NaN                      No  \n",
       "2          Male                      No  \n",
       "3         Other                      No  \n",
       "4          Male                     Yes  "
      ]
     },
     "execution_count": 3,
     "metadata": {},
     "output_type": "execute_result"
    }
   ],
   "source": [
    "df.head()"
   ]
  },
  {
   "cell_type": "code",
   "execution_count": 4,
   "metadata": {},
   "outputs": [
    {
     "data": {
      "text/plain": [
       "(183412, 16)"
      ]
     },
     "execution_count": 4,
     "metadata": {},
     "output_type": "execute_result"
    }
   ],
   "source": [
    "df.shape"
   ]
  },
  {
   "cell_type": "markdown",
   "metadata": {},
   "source": [
    "## 2. Assessing Data"
   ]
  },
  {
   "cell_type": "code",
   "execution_count": 5,
   "metadata": {
    "scrolled": false
   },
   "outputs": [
    {
     "data": {
      "text/html": [
       "<div>\n",
       "<style scoped>\n",
       "    .dataframe tbody tr th:only-of-type {\n",
       "        vertical-align: middle;\n",
       "    }\n",
       "\n",
       "    .dataframe tbody tr th {\n",
       "        vertical-align: top;\n",
       "    }\n",
       "\n",
       "    .dataframe thead th {\n",
       "        text-align: right;\n",
       "    }\n",
       "</style>\n",
       "<table border=\"1\" class=\"dataframe\">\n",
       "  <thead>\n",
       "    <tr style=\"text-align: right;\">\n",
       "      <th></th>\n",
       "      <th>duration_sec</th>\n",
       "      <th>start_time</th>\n",
       "      <th>end_time</th>\n",
       "      <th>start_station_id</th>\n",
       "      <th>start_station_name</th>\n",
       "      <th>start_station_latitude</th>\n",
       "      <th>start_station_longitude</th>\n",
       "      <th>end_station_id</th>\n",
       "      <th>end_station_name</th>\n",
       "      <th>end_station_latitude</th>\n",
       "      <th>end_station_longitude</th>\n",
       "      <th>bike_id</th>\n",
       "      <th>user_type</th>\n",
       "      <th>member_birth_year</th>\n",
       "      <th>member_gender</th>\n",
       "      <th>bike_share_for_all_trip</th>\n",
       "    </tr>\n",
       "  </thead>\n",
       "  <tbody>\n",
       "    <tr>\n",
       "      <th>47772</th>\n",
       "      <td>374</td>\n",
       "      <td>2019-02-22 08:32:05.0940</td>\n",
       "      <td>2019-02-22 08:38:19.7860</td>\n",
       "      <td>15.0</td>\n",
       "      <td>San Francisco Ferry Building (Harry Bridges Pl...</td>\n",
       "      <td>37.795392</td>\n",
       "      <td>-122.394203</td>\n",
       "      <td>6.0</td>\n",
       "      <td>The Embarcadero at Sansome St</td>\n",
       "      <td>37.804770</td>\n",
       "      <td>-122.403234</td>\n",
       "      <td>5351</td>\n",
       "      <td>Subscriber</td>\n",
       "      <td>1971.0</td>\n",
       "      <td>Male</td>\n",
       "      <td>No</td>\n",
       "    </tr>\n",
       "    <tr>\n",
       "      <th>78573</th>\n",
       "      <td>214</td>\n",
       "      <td>2019-02-18 19:15:17.9410</td>\n",
       "      <td>2019-02-18 19:18:52.8860</td>\n",
       "      <td>200.0</td>\n",
       "      <td>2nd Ave at E 18th St</td>\n",
       "      <td>37.800214</td>\n",
       "      <td>-122.253810</td>\n",
       "      <td>197.0</td>\n",
       "      <td>El Embarcadero at Grand Ave</td>\n",
       "      <td>37.808848</td>\n",
       "      <td>-122.249680</td>\n",
       "      <td>6368</td>\n",
       "      <td>Subscriber</td>\n",
       "      <td>1995.0</td>\n",
       "      <td>Male</td>\n",
       "      <td>No</td>\n",
       "    </tr>\n",
       "    <tr>\n",
       "      <th>39293</th>\n",
       "      <td>1222</td>\n",
       "      <td>2019-02-23 09:29:47.2700</td>\n",
       "      <td>2019-02-23 09:50:10.0600</td>\n",
       "      <td>93.0</td>\n",
       "      <td>4th St at Mission Bay Blvd S</td>\n",
       "      <td>37.770407</td>\n",
       "      <td>-122.391198</td>\n",
       "      <td>84.0</td>\n",
       "      <td>Duboce Park</td>\n",
       "      <td>37.769201</td>\n",
       "      <td>-122.433812</td>\n",
       "      <td>5572</td>\n",
       "      <td>Subscriber</td>\n",
       "      <td>1986.0</td>\n",
       "      <td>Male</td>\n",
       "      <td>No</td>\n",
       "    </tr>\n",
       "    <tr>\n",
       "      <th>89113</th>\n",
       "      <td>2595</td>\n",
       "      <td>2019-02-16 15:47:31.7270</td>\n",
       "      <td>2019-02-16 16:30:46.9230</td>\n",
       "      <td>323.0</td>\n",
       "      <td>Broadway at Kearny</td>\n",
       "      <td>37.798014</td>\n",
       "      <td>-122.405950</td>\n",
       "      <td>371.0</td>\n",
       "      <td>Lombard St at Columbus Ave</td>\n",
       "      <td>37.802746</td>\n",
       "      <td>-122.413579</td>\n",
       "      <td>5239</td>\n",
       "      <td>Subscriber</td>\n",
       "      <td>1992.0</td>\n",
       "      <td>Female</td>\n",
       "      <td>No</td>\n",
       "    </tr>\n",
       "    <tr>\n",
       "      <th>29281</th>\n",
       "      <td>706</td>\n",
       "      <td>2019-02-25 07:35:04.9950</td>\n",
       "      <td>2019-02-25 07:46:51.2490</td>\n",
       "      <td>114.0</td>\n",
       "      <td>Rhode Island St at 17th St</td>\n",
       "      <td>37.764478</td>\n",
       "      <td>-122.402570</td>\n",
       "      <td>16.0</td>\n",
       "      <td>Steuart St at Market St</td>\n",
       "      <td>37.794130</td>\n",
       "      <td>-122.394430</td>\n",
       "      <td>4633</td>\n",
       "      <td>Subscriber</td>\n",
       "      <td>1973.0</td>\n",
       "      <td>Male</td>\n",
       "      <td>No</td>\n",
       "    </tr>\n",
       "    <tr>\n",
       "      <th>178304</th>\n",
       "      <td>370</td>\n",
       "      <td>2019-02-01 17:27:33.2390</td>\n",
       "      <td>2019-02-01 17:33:44.1650</td>\n",
       "      <td>67.0</td>\n",
       "      <td>San Francisco Caltrain Station 2  (Townsend St...</td>\n",
       "      <td>37.776639</td>\n",
       "      <td>-122.395526</td>\n",
       "      <td>345.0</td>\n",
       "      <td>Hubbell St at 16th St</td>\n",
       "      <td>37.766483</td>\n",
       "      <td>-122.398279</td>\n",
       "      <td>5001</td>\n",
       "      <td>Subscriber</td>\n",
       "      <td>1994.0</td>\n",
       "      <td>Male</td>\n",
       "      <td>No</td>\n",
       "    </tr>\n",
       "    <tr>\n",
       "      <th>4570</th>\n",
       "      <td>144</td>\n",
       "      <td>2019-02-28 15:40:26.3500</td>\n",
       "      <td>2019-02-28 15:42:50.8680</td>\n",
       "      <td>61.0</td>\n",
       "      <td>Howard St at 8th St</td>\n",
       "      <td>37.776513</td>\n",
       "      <td>-122.411306</td>\n",
       "      <td>350.0</td>\n",
       "      <td>8th St at Brannan St</td>\n",
       "      <td>37.771431</td>\n",
       "      <td>-122.405787</td>\n",
       "      <td>4619</td>\n",
       "      <td>Subscriber</td>\n",
       "      <td>1990.0</td>\n",
       "      <td>Female</td>\n",
       "      <td>No</td>\n",
       "    </tr>\n",
       "    <tr>\n",
       "      <th>182227</th>\n",
       "      <td>644</td>\n",
       "      <td>2019-02-01 08:25:54.1000</td>\n",
       "      <td>2019-02-01 08:36:38.9120</td>\n",
       "      <td>22.0</td>\n",
       "      <td>Howard St at Beale St</td>\n",
       "      <td>37.789756</td>\n",
       "      <td>-122.394643</td>\n",
       "      <td>6.0</td>\n",
       "      <td>The Embarcadero at Sansome St</td>\n",
       "      <td>37.804770</td>\n",
       "      <td>-122.403234</td>\n",
       "      <td>1024</td>\n",
       "      <td>Subscriber</td>\n",
       "      <td>1989.0</td>\n",
       "      <td>Male</td>\n",
       "      <td>Yes</td>\n",
       "    </tr>\n",
       "    <tr>\n",
       "      <th>20815</th>\n",
       "      <td>346</td>\n",
       "      <td>2019-02-26 10:32:16.7600</td>\n",
       "      <td>2019-02-26 10:38:03.5690</td>\n",
       "      <td>126.0</td>\n",
       "      <td>Esprit Park</td>\n",
       "      <td>37.761634</td>\n",
       "      <td>-122.390648</td>\n",
       "      <td>81.0</td>\n",
       "      <td>Berry St at 4th St</td>\n",
       "      <td>37.775880</td>\n",
       "      <td>-122.393170</td>\n",
       "      <td>6525</td>\n",
       "      <td>Subscriber</td>\n",
       "      <td>1986.0</td>\n",
       "      <td>Male</td>\n",
       "      <td>No</td>\n",
       "    </tr>\n",
       "    <tr>\n",
       "      <th>5979</th>\n",
       "      <td>735</td>\n",
       "      <td>2019-02-28 11:31:02.6370</td>\n",
       "      <td>2019-02-28 11:43:18.5750</td>\n",
       "      <td>278.0</td>\n",
       "      <td>The Alameda at Bush St</td>\n",
       "      <td>37.331932</td>\n",
       "      <td>-121.904888</td>\n",
       "      <td>317.0</td>\n",
       "      <td>San Salvador St at 9th St</td>\n",
       "      <td>37.333955</td>\n",
       "      <td>-121.877349</td>\n",
       "      <td>2611</td>\n",
       "      <td>Subscriber</td>\n",
       "      <td>1993.0</td>\n",
       "      <td>Male</td>\n",
       "      <td>Yes</td>\n",
       "    </tr>\n",
       "    <tr>\n",
       "      <th>54600</th>\n",
       "      <td>73</td>\n",
       "      <td>2019-02-21 12:33:50.6970</td>\n",
       "      <td>2019-02-21 12:35:03.7800</td>\n",
       "      <td>317.0</td>\n",
       "      <td>San Salvador St at 9th St</td>\n",
       "      <td>37.333955</td>\n",
       "      <td>-121.877349</td>\n",
       "      <td>317.0</td>\n",
       "      <td>San Salvador St at 9th St</td>\n",
       "      <td>37.333955</td>\n",
       "      <td>-121.877349</td>\n",
       "      <td>3842</td>\n",
       "      <td>Subscriber</td>\n",
       "      <td>1983.0</td>\n",
       "      <td>Female</td>\n",
       "      <td>Yes</td>\n",
       "    </tr>\n",
       "    <tr>\n",
       "      <th>12528</th>\n",
       "      <td>1495</td>\n",
       "      <td>2019-02-27 17:12:23.2150</td>\n",
       "      <td>2019-02-27 17:37:18.7310</td>\n",
       "      <td>21.0</td>\n",
       "      <td>Montgomery St BART Station (Market St at 2nd St)</td>\n",
       "      <td>37.789625</td>\n",
       "      <td>-122.400811</td>\n",
       "      <td>137.0</td>\n",
       "      <td>Jersey St at Castro St</td>\n",
       "      <td>37.750506</td>\n",
       "      <td>-122.433950</td>\n",
       "      <td>6132</td>\n",
       "      <td>Subscriber</td>\n",
       "      <td>1985.0</td>\n",
       "      <td>Male</td>\n",
       "      <td>No</td>\n",
       "    </tr>\n",
       "    <tr>\n",
       "      <th>162834</th>\n",
       "      <td>173</td>\n",
       "      <td>2019-02-05 10:10:29.4840</td>\n",
       "      <td>2019-02-05 10:13:23.4410</td>\n",
       "      <td>339.0</td>\n",
       "      <td>Jackson St at 11th St</td>\n",
       "      <td>37.800002</td>\n",
       "      <td>-122.266438</td>\n",
       "      <td>163.0</td>\n",
       "      <td>Lake Merritt BART Station</td>\n",
       "      <td>37.797320</td>\n",
       "      <td>-122.265320</td>\n",
       "      <td>3233</td>\n",
       "      <td>Subscriber</td>\n",
       "      <td>1968.0</td>\n",
       "      <td>Female</td>\n",
       "      <td>Yes</td>\n",
       "    </tr>\n",
       "    <tr>\n",
       "      <th>101167</th>\n",
       "      <td>1028</td>\n",
       "      <td>2019-02-14 17:36:19.4430</td>\n",
       "      <td>2019-02-14 17:53:28.2240</td>\n",
       "      <td>13.0</td>\n",
       "      <td>Commercial St at Montgomery St</td>\n",
       "      <td>37.794231</td>\n",
       "      <td>-122.402923</td>\n",
       "      <td>364.0</td>\n",
       "      <td>China Basin St at 3rd St</td>\n",
       "      <td>37.772000</td>\n",
       "      <td>-122.389970</td>\n",
       "      <td>1846</td>\n",
       "      <td>Subscriber</td>\n",
       "      <td>1986.0</td>\n",
       "      <td>Female</td>\n",
       "      <td>No</td>\n",
       "    </tr>\n",
       "    <tr>\n",
       "      <th>61493</th>\n",
       "      <td>199</td>\n",
       "      <td>2019-02-20 17:45:10.6490</td>\n",
       "      <td>2019-02-20 17:48:30.2170</td>\n",
       "      <td>8.0</td>\n",
       "      <td>The Embarcadero at Vallejo St</td>\n",
       "      <td>37.799953</td>\n",
       "      <td>-122.398525</td>\n",
       "      <td>15.0</td>\n",
       "      <td>San Francisco Ferry Building (Harry Bridges Pl...</td>\n",
       "      <td>37.795392</td>\n",
       "      <td>-122.394203</td>\n",
       "      <td>4733</td>\n",
       "      <td>Subscriber</td>\n",
       "      <td>1976.0</td>\n",
       "      <td>Male</td>\n",
       "      <td>No</td>\n",
       "    </tr>\n",
       "    <tr>\n",
       "      <th>153186</th>\n",
       "      <td>627</td>\n",
       "      <td>2019-02-06 13:17:26.9580</td>\n",
       "      <td>2019-02-06 13:27:54.4310</td>\n",
       "      <td>175.0</td>\n",
       "      <td>49th St at Telegraph Ave</td>\n",
       "      <td>37.835946</td>\n",
       "      <td>-122.262366</td>\n",
       "      <td>167.0</td>\n",
       "      <td>College Ave at Harwood Ave</td>\n",
       "      <td>37.848152</td>\n",
       "      <td>-122.252160</td>\n",
       "      <td>1224</td>\n",
       "      <td>Subscriber</td>\n",
       "      <td>1947.0</td>\n",
       "      <td>Male</td>\n",
       "      <td>No</td>\n",
       "    </tr>\n",
       "    <tr>\n",
       "      <th>173866</th>\n",
       "      <td>578</td>\n",
       "      <td>2019-02-03 08:46:51.1750</td>\n",
       "      <td>2019-02-03 08:56:29.7000</td>\n",
       "      <td>284.0</td>\n",
       "      <td>Yerba Buena Center for the Arts (Howard St at ...</td>\n",
       "      <td>37.784872</td>\n",
       "      <td>-122.400876</td>\n",
       "      <td>87.0</td>\n",
       "      <td>Folsom St at 13th St</td>\n",
       "      <td>37.769757</td>\n",
       "      <td>-122.415674</td>\n",
       "      <td>5097</td>\n",
       "      <td>Subscriber</td>\n",
       "      <td>1990.0</td>\n",
       "      <td>Male</td>\n",
       "      <td>No</td>\n",
       "    </tr>\n",
       "    <tr>\n",
       "      <th>51075</th>\n",
       "      <td>403</td>\n",
       "      <td>2019-02-21 18:24:32.4690</td>\n",
       "      <td>2019-02-21 18:31:15.7330</td>\n",
       "      <td>59.0</td>\n",
       "      <td>S Van Ness Ave at Market St</td>\n",
       "      <td>37.774814</td>\n",
       "      <td>-122.418954</td>\n",
       "      <td>62.0</td>\n",
       "      <td>Victoria Manalo Draves Park</td>\n",
       "      <td>37.777791</td>\n",
       "      <td>-122.406432</td>\n",
       "      <td>5576</td>\n",
       "      <td>Subscriber</td>\n",
       "      <td>1988.0</td>\n",
       "      <td>Male</td>\n",
       "      <td>No</td>\n",
       "    </tr>\n",
       "    <tr>\n",
       "      <th>155606</th>\n",
       "      <td>559</td>\n",
       "      <td>2019-02-06 08:39:43.9080</td>\n",
       "      <td>2019-02-06 08:49:03.0990</td>\n",
       "      <td>139.0</td>\n",
       "      <td>Garfield Square (25th St at Harrison St)</td>\n",
       "      <td>37.751017</td>\n",
       "      <td>-122.411901</td>\n",
       "      <td>90.0</td>\n",
       "      <td>Townsend St at 7th St</td>\n",
       "      <td>37.771058</td>\n",
       "      <td>-122.402717</td>\n",
       "      <td>2069</td>\n",
       "      <td>Subscriber</td>\n",
       "      <td>1995.0</td>\n",
       "      <td>Male</td>\n",
       "      <td>No</td>\n",
       "    </tr>\n",
       "    <tr>\n",
       "      <th>17544</th>\n",
       "      <td>391</td>\n",
       "      <td>2019-02-27 00:20:09.3840</td>\n",
       "      <td>2019-02-27 00:26:40.8810</td>\n",
       "      <td>5.0</td>\n",
       "      <td>Powell St BART Station (Market St at 5th St)</td>\n",
       "      <td>37.783899</td>\n",
       "      <td>-122.408445</td>\n",
       "      <td>90.0</td>\n",
       "      <td>Townsend St at 7th St</td>\n",
       "      <td>37.771058</td>\n",
       "      <td>-122.402717</td>\n",
       "      <td>4812</td>\n",
       "      <td>Subscriber</td>\n",
       "      <td>1981.0</td>\n",
       "      <td>Male</td>\n",
       "      <td>Yes</td>\n",
       "    </tr>\n",
       "  </tbody>\n",
       "</table>\n",
       "</div>"
      ],
      "text/plain": [
       "        duration_sec                start_time                  end_time  \\\n",
       "47772            374  2019-02-22 08:32:05.0940  2019-02-22 08:38:19.7860   \n",
       "78573            214  2019-02-18 19:15:17.9410  2019-02-18 19:18:52.8860   \n",
       "39293           1222  2019-02-23 09:29:47.2700  2019-02-23 09:50:10.0600   \n",
       "89113           2595  2019-02-16 15:47:31.7270  2019-02-16 16:30:46.9230   \n",
       "29281            706  2019-02-25 07:35:04.9950  2019-02-25 07:46:51.2490   \n",
       "178304           370  2019-02-01 17:27:33.2390  2019-02-01 17:33:44.1650   \n",
       "4570             144  2019-02-28 15:40:26.3500  2019-02-28 15:42:50.8680   \n",
       "182227           644  2019-02-01 08:25:54.1000  2019-02-01 08:36:38.9120   \n",
       "20815            346  2019-02-26 10:32:16.7600  2019-02-26 10:38:03.5690   \n",
       "5979             735  2019-02-28 11:31:02.6370  2019-02-28 11:43:18.5750   \n",
       "54600             73  2019-02-21 12:33:50.6970  2019-02-21 12:35:03.7800   \n",
       "12528           1495  2019-02-27 17:12:23.2150  2019-02-27 17:37:18.7310   \n",
       "162834           173  2019-02-05 10:10:29.4840  2019-02-05 10:13:23.4410   \n",
       "101167          1028  2019-02-14 17:36:19.4430  2019-02-14 17:53:28.2240   \n",
       "61493            199  2019-02-20 17:45:10.6490  2019-02-20 17:48:30.2170   \n",
       "153186           627  2019-02-06 13:17:26.9580  2019-02-06 13:27:54.4310   \n",
       "173866           578  2019-02-03 08:46:51.1750  2019-02-03 08:56:29.7000   \n",
       "51075            403  2019-02-21 18:24:32.4690  2019-02-21 18:31:15.7330   \n",
       "155606           559  2019-02-06 08:39:43.9080  2019-02-06 08:49:03.0990   \n",
       "17544            391  2019-02-27 00:20:09.3840  2019-02-27 00:26:40.8810   \n",
       "\n",
       "        start_station_id                                 start_station_name  \\\n",
       "47772               15.0  San Francisco Ferry Building (Harry Bridges Pl...   \n",
       "78573              200.0                               2nd Ave at E 18th St   \n",
       "39293               93.0                       4th St at Mission Bay Blvd S   \n",
       "89113              323.0                                 Broadway at Kearny   \n",
       "29281              114.0                         Rhode Island St at 17th St   \n",
       "178304              67.0  San Francisco Caltrain Station 2  (Townsend St...   \n",
       "4570                61.0                                Howard St at 8th St   \n",
       "182227              22.0                              Howard St at Beale St   \n",
       "20815              126.0                                        Esprit Park   \n",
       "5979               278.0                             The Alameda at Bush St   \n",
       "54600              317.0                          San Salvador St at 9th St   \n",
       "12528               21.0   Montgomery St BART Station (Market St at 2nd St)   \n",
       "162834             339.0                              Jackson St at 11th St   \n",
       "101167              13.0                     Commercial St at Montgomery St   \n",
       "61493                8.0                      The Embarcadero at Vallejo St   \n",
       "153186             175.0                           49th St at Telegraph Ave   \n",
       "173866             284.0  Yerba Buena Center for the Arts (Howard St at ...   \n",
       "51075               59.0                        S Van Ness Ave at Market St   \n",
       "155606             139.0           Garfield Square (25th St at Harrison St)   \n",
       "17544                5.0       Powell St BART Station (Market St at 5th St)   \n",
       "\n",
       "        start_station_latitude  start_station_longitude  end_station_id  \\\n",
       "47772                37.795392              -122.394203             6.0   \n",
       "78573                37.800214              -122.253810           197.0   \n",
       "39293                37.770407              -122.391198            84.0   \n",
       "89113                37.798014              -122.405950           371.0   \n",
       "29281                37.764478              -122.402570            16.0   \n",
       "178304               37.776639              -122.395526           345.0   \n",
       "4570                 37.776513              -122.411306           350.0   \n",
       "182227               37.789756              -122.394643             6.0   \n",
       "20815                37.761634              -122.390648            81.0   \n",
       "5979                 37.331932              -121.904888           317.0   \n",
       "54600                37.333955              -121.877349           317.0   \n",
       "12528                37.789625              -122.400811           137.0   \n",
       "162834               37.800002              -122.266438           163.0   \n",
       "101167               37.794231              -122.402923           364.0   \n",
       "61493                37.799953              -122.398525            15.0   \n",
       "153186               37.835946              -122.262366           167.0   \n",
       "173866               37.784872              -122.400876            87.0   \n",
       "51075                37.774814              -122.418954            62.0   \n",
       "155606               37.751017              -122.411901            90.0   \n",
       "17544                37.783899              -122.408445            90.0   \n",
       "\n",
       "                                         end_station_name  \\\n",
       "47772                       The Embarcadero at Sansome St   \n",
       "78573                         El Embarcadero at Grand Ave   \n",
       "39293                                         Duboce Park   \n",
       "89113                          Lombard St at Columbus Ave   \n",
       "29281                             Steuart St at Market St   \n",
       "178304                              Hubbell St at 16th St   \n",
       "4570                                 8th St at Brannan St   \n",
       "182227                      The Embarcadero at Sansome St   \n",
       "20815                                  Berry St at 4th St   \n",
       "5979                            San Salvador St at 9th St   \n",
       "54600                           San Salvador St at 9th St   \n",
       "12528                              Jersey St at Castro St   \n",
       "162834                          Lake Merritt BART Station   \n",
       "101167                           China Basin St at 3rd St   \n",
       "61493   San Francisco Ferry Building (Harry Bridges Pl...   \n",
       "153186                         College Ave at Harwood Ave   \n",
       "173866                               Folsom St at 13th St   \n",
       "51075                         Victoria Manalo Draves Park   \n",
       "155606                              Townsend St at 7th St   \n",
       "17544                               Townsend St at 7th St   \n",
       "\n",
       "        end_station_latitude  end_station_longitude  bike_id   user_type  \\\n",
       "47772              37.804770            -122.403234     5351  Subscriber   \n",
       "78573              37.808848            -122.249680     6368  Subscriber   \n",
       "39293              37.769201            -122.433812     5572  Subscriber   \n",
       "89113              37.802746            -122.413579     5239  Subscriber   \n",
       "29281              37.794130            -122.394430     4633  Subscriber   \n",
       "178304             37.766483            -122.398279     5001  Subscriber   \n",
       "4570               37.771431            -122.405787     4619  Subscriber   \n",
       "182227             37.804770            -122.403234     1024  Subscriber   \n",
       "20815              37.775880            -122.393170     6525  Subscriber   \n",
       "5979               37.333955            -121.877349     2611  Subscriber   \n",
       "54600              37.333955            -121.877349     3842  Subscriber   \n",
       "12528              37.750506            -122.433950     6132  Subscriber   \n",
       "162834             37.797320            -122.265320     3233  Subscriber   \n",
       "101167             37.772000            -122.389970     1846  Subscriber   \n",
       "61493              37.795392            -122.394203     4733  Subscriber   \n",
       "153186             37.848152            -122.252160     1224  Subscriber   \n",
       "173866             37.769757            -122.415674     5097  Subscriber   \n",
       "51075              37.777791            -122.406432     5576  Subscriber   \n",
       "155606             37.771058            -122.402717     2069  Subscriber   \n",
       "17544              37.771058            -122.402717     4812  Subscriber   \n",
       "\n",
       "        member_birth_year member_gender bike_share_for_all_trip  \n",
       "47772              1971.0          Male                      No  \n",
       "78573              1995.0          Male                      No  \n",
       "39293              1986.0          Male                      No  \n",
       "89113              1992.0        Female                      No  \n",
       "29281              1973.0          Male                      No  \n",
       "178304             1994.0          Male                      No  \n",
       "4570               1990.0        Female                      No  \n",
       "182227             1989.0          Male                     Yes  \n",
       "20815              1986.0          Male                      No  \n",
       "5979               1993.0          Male                     Yes  \n",
       "54600              1983.0        Female                     Yes  \n",
       "12528              1985.0          Male                      No  \n",
       "162834             1968.0        Female                     Yes  \n",
       "101167             1986.0        Female                      No  \n",
       "61493              1976.0          Male                      No  \n",
       "153186             1947.0          Male                      No  \n",
       "173866             1990.0          Male                      No  \n",
       "51075              1988.0          Male                      No  \n",
       "155606             1995.0          Male                      No  \n",
       "17544              1981.0          Male                     Yes  "
      ]
     },
     "execution_count": 5,
     "metadata": {},
     "output_type": "execute_result"
    }
   ],
   "source": [
    "# Visualize sample of dataset\n",
    "df.sample(20)"
   ]
  },
  {
   "cell_type": "code",
   "execution_count": 6,
   "metadata": {
    "scrolled": false
   },
   "outputs": [
    {
     "name": "stdout",
     "output_type": "stream",
     "text": [
      "<class 'pandas.core.frame.DataFrame'>\n",
      "RangeIndex: 183412 entries, 0 to 183411\n",
      "Data columns (total 16 columns):\n",
      " #   Column                   Non-Null Count   Dtype  \n",
      "---  ------                   --------------   -----  \n",
      " 0   duration_sec             183412 non-null  int64  \n",
      " 1   start_time               183412 non-null  object \n",
      " 2   end_time                 183412 non-null  object \n",
      " 3   start_station_id         183215 non-null  float64\n",
      " 4   start_station_name       183215 non-null  object \n",
      " 5   start_station_latitude   183412 non-null  float64\n",
      " 6   start_station_longitude  183412 non-null  float64\n",
      " 7   end_station_id           183215 non-null  float64\n",
      " 8   end_station_name         183215 non-null  object \n",
      " 9   end_station_latitude     183412 non-null  float64\n",
      " 10  end_station_longitude    183412 non-null  float64\n",
      " 11  bike_id                  183412 non-null  int64  \n",
      " 12  user_type                183412 non-null  object \n",
      " 13  member_birth_year        175147 non-null  float64\n",
      " 14  member_gender            175147 non-null  object \n",
      " 15  bike_share_for_all_trip  183412 non-null  object \n",
      "dtypes: float64(7), int64(2), object(7)\n",
      "memory usage: 22.4+ MB\n"
     ]
    }
   ],
   "source": [
    "df.info()"
   ]
  },
  {
   "cell_type": "code",
   "execution_count": 7,
   "metadata": {},
   "outputs": [
    {
     "data": {
      "text/plain": [
       "0"
      ]
     },
     "execution_count": 7,
     "metadata": {},
     "output_type": "execute_result"
    }
   ],
   "source": [
    "# Check for duplicates\n",
    "df.duplicated().sum()"
   ]
  },
  {
   "cell_type": "code",
   "execution_count": 8,
   "metadata": {
    "scrolled": true
   },
   "outputs": [
    {
     "data": {
      "text/html": [
       "<div>\n",
       "<style scoped>\n",
       "    .dataframe tbody tr th:only-of-type {\n",
       "        vertical-align: middle;\n",
       "    }\n",
       "\n",
       "    .dataframe tbody tr th {\n",
       "        vertical-align: top;\n",
       "    }\n",
       "\n",
       "    .dataframe thead th {\n",
       "        text-align: right;\n",
       "    }\n",
       "</style>\n",
       "<table border=\"1\" class=\"dataframe\">\n",
       "  <thead>\n",
       "    <tr style=\"text-align: right;\">\n",
       "      <th></th>\n",
       "      <th>duration_sec</th>\n",
       "      <th>start_station_id</th>\n",
       "      <th>start_station_latitude</th>\n",
       "      <th>start_station_longitude</th>\n",
       "      <th>end_station_id</th>\n",
       "      <th>end_station_latitude</th>\n",
       "      <th>end_station_longitude</th>\n",
       "      <th>bike_id</th>\n",
       "      <th>member_birth_year</th>\n",
       "    </tr>\n",
       "  </thead>\n",
       "  <tbody>\n",
       "    <tr>\n",
       "      <th>count</th>\n",
       "      <td>183412.000000</td>\n",
       "      <td>183215.000000</td>\n",
       "      <td>183412.000000</td>\n",
       "      <td>183412.000000</td>\n",
       "      <td>183215.000000</td>\n",
       "      <td>183412.000000</td>\n",
       "      <td>183412.000000</td>\n",
       "      <td>183412.000000</td>\n",
       "      <td>175147.000000</td>\n",
       "    </tr>\n",
       "    <tr>\n",
       "      <th>mean</th>\n",
       "      <td>726.078435</td>\n",
       "      <td>138.590427</td>\n",
       "      <td>37.771223</td>\n",
       "      <td>-122.352664</td>\n",
       "      <td>136.249123</td>\n",
       "      <td>37.771427</td>\n",
       "      <td>-122.352250</td>\n",
       "      <td>4472.906375</td>\n",
       "      <td>1984.806437</td>\n",
       "    </tr>\n",
       "    <tr>\n",
       "      <th>std</th>\n",
       "      <td>1794.389780</td>\n",
       "      <td>111.778864</td>\n",
       "      <td>0.099581</td>\n",
       "      <td>0.117097</td>\n",
       "      <td>111.515131</td>\n",
       "      <td>0.099490</td>\n",
       "      <td>0.116673</td>\n",
       "      <td>1664.383394</td>\n",
       "      <td>10.116689</td>\n",
       "    </tr>\n",
       "    <tr>\n",
       "      <th>min</th>\n",
       "      <td>61.000000</td>\n",
       "      <td>3.000000</td>\n",
       "      <td>37.317298</td>\n",
       "      <td>-122.453704</td>\n",
       "      <td>3.000000</td>\n",
       "      <td>37.317298</td>\n",
       "      <td>-122.453704</td>\n",
       "      <td>11.000000</td>\n",
       "      <td>1878.000000</td>\n",
       "    </tr>\n",
       "    <tr>\n",
       "      <th>25%</th>\n",
       "      <td>325.000000</td>\n",
       "      <td>47.000000</td>\n",
       "      <td>37.770083</td>\n",
       "      <td>-122.412408</td>\n",
       "      <td>44.000000</td>\n",
       "      <td>37.770407</td>\n",
       "      <td>-122.411726</td>\n",
       "      <td>3777.000000</td>\n",
       "      <td>1980.000000</td>\n",
       "    </tr>\n",
       "    <tr>\n",
       "      <th>50%</th>\n",
       "      <td>514.000000</td>\n",
       "      <td>104.000000</td>\n",
       "      <td>37.780760</td>\n",
       "      <td>-122.398285</td>\n",
       "      <td>100.000000</td>\n",
       "      <td>37.781010</td>\n",
       "      <td>-122.398279</td>\n",
       "      <td>4958.000000</td>\n",
       "      <td>1987.000000</td>\n",
       "    </tr>\n",
       "    <tr>\n",
       "      <th>75%</th>\n",
       "      <td>796.000000</td>\n",
       "      <td>239.000000</td>\n",
       "      <td>37.797280</td>\n",
       "      <td>-122.286533</td>\n",
       "      <td>235.000000</td>\n",
       "      <td>37.797320</td>\n",
       "      <td>-122.288045</td>\n",
       "      <td>5502.000000</td>\n",
       "      <td>1992.000000</td>\n",
       "    </tr>\n",
       "    <tr>\n",
       "      <th>max</th>\n",
       "      <td>85444.000000</td>\n",
       "      <td>398.000000</td>\n",
       "      <td>37.880222</td>\n",
       "      <td>-121.874119</td>\n",
       "      <td>398.000000</td>\n",
       "      <td>37.880222</td>\n",
       "      <td>-121.874119</td>\n",
       "      <td>6645.000000</td>\n",
       "      <td>2001.000000</td>\n",
       "    </tr>\n",
       "  </tbody>\n",
       "</table>\n",
       "</div>"
      ],
      "text/plain": [
       "        duration_sec  start_station_id  start_station_latitude  \\\n",
       "count  183412.000000     183215.000000           183412.000000   \n",
       "mean      726.078435        138.590427               37.771223   \n",
       "std      1794.389780        111.778864                0.099581   \n",
       "min        61.000000          3.000000               37.317298   \n",
       "25%       325.000000         47.000000               37.770083   \n",
       "50%       514.000000        104.000000               37.780760   \n",
       "75%       796.000000        239.000000               37.797280   \n",
       "max     85444.000000        398.000000               37.880222   \n",
       "\n",
       "       start_station_longitude  end_station_id  end_station_latitude  \\\n",
       "count            183412.000000   183215.000000         183412.000000   \n",
       "mean               -122.352664      136.249123             37.771427   \n",
       "std                   0.117097      111.515131              0.099490   \n",
       "min                -122.453704        3.000000             37.317298   \n",
       "25%                -122.412408       44.000000             37.770407   \n",
       "50%                -122.398285      100.000000             37.781010   \n",
       "75%                -122.286533      235.000000             37.797320   \n",
       "max                -121.874119      398.000000             37.880222   \n",
       "\n",
       "       end_station_longitude        bike_id  member_birth_year  \n",
       "count          183412.000000  183412.000000      175147.000000  \n",
       "mean             -122.352250    4472.906375        1984.806437  \n",
       "std                 0.116673    1664.383394          10.116689  \n",
       "min              -122.453704      11.000000        1878.000000  \n",
       "25%              -122.411726    3777.000000        1980.000000  \n",
       "50%              -122.398279    4958.000000        1987.000000  \n",
       "75%              -122.288045    5502.000000        1992.000000  \n",
       "max              -121.874119    6645.000000        2001.000000  "
      ]
     },
     "execution_count": 8,
     "metadata": {},
     "output_type": "execute_result"
    }
   ],
   "source": [
    "#Describing the data\n",
    "df.describe()"
   ]
  },
  {
   "cell_type": "markdown",
   "metadata": {},
   "source": [
    "## 3. Cleaning Data"
   ]
  },
  {
   "cell_type": "code",
   "execution_count": 9,
   "metadata": {},
   "outputs": [],
   "source": [
    "#Make a copy of the original dataset\n",
    "df_clean = df.copy()"
   ]
  },
  {
   "cell_type": "code",
   "execution_count": 10,
   "metadata": {},
   "outputs": [
    {
     "data": {
      "text/plain": [
       "Index(['duration_sec', 'start_time', 'end_time', 'start_station_id',\n",
       "       'start_station_name', 'start_station_latitude',\n",
       "       'start_station_longitude', 'end_station_id', 'end_station_name',\n",
       "       'end_station_latitude', 'end_station_longitude', 'bike_id', 'user_type',\n",
       "       'member_birth_year', 'member_gender', 'bike_share_for_all_trip'],\n",
       "      dtype='object')"
      ]
     },
     "execution_count": 10,
     "metadata": {},
     "output_type": "execute_result"
    }
   ],
   "source": [
    "df_clean.columns"
   ]
  },
  {
   "cell_type": "markdown",
   "metadata": {},
   "source": [
    " **Define** : Change the datatypes of required columns."
   ]
  },
  {
   "cell_type": "markdown",
   "metadata": {},
   "source": [
    "**Code**"
   ]
  },
  {
   "cell_type": "code",
   "execution_count": 11,
   "metadata": {},
   "outputs": [],
   "source": [
    "#Change datatypes of start_time and end_time to datetime\n",
    "df_clean['start_time'] = pd.to_datetime(df_clean['start_time'])\n",
    "df_clean['end_time'] = pd.to_datetime(df_clean['end_time'])"
   ]
  },
  {
   "cell_type": "code",
   "execution_count": 12,
   "metadata": {},
   "outputs": [],
   "source": [
    "# Change datatype of gender,user_type to category\n",
    "df_clean['user_type'] = df_clean['user_type'].astype('category')\n",
    "df_clean['member_gender'] = df_clean['member_gender'].astype('category')"
   ]
  },
  {
   "cell_type": "code",
   "execution_count": 13,
   "metadata": {},
   "outputs": [],
   "source": [
    "# Change datatypes of bike id, start_station_id, end_station_id to object\n",
    "df_clean['start_station_id'] = df_clean['start_station_id'].astype(str)\n",
    "df_clean['end_station_id'] = df_clean['end_station_id'].astype(str)\n",
    "df_clean['bike_id'] = df_clean['bike_id'].astype(str)"
   ]
  },
  {
   "cell_type": "markdown",
   "metadata": {},
   "source": [
    "**Test**"
   ]
  },
  {
   "cell_type": "code",
   "execution_count": 14,
   "metadata": {},
   "outputs": [
    {
     "data": {
      "text/plain": [
       "duration_sec                        int64\n",
       "start_time                 datetime64[ns]\n",
       "end_time                   datetime64[ns]\n",
       "start_station_id                   object\n",
       "start_station_name                 object\n",
       "start_station_latitude            float64\n",
       "start_station_longitude           float64\n",
       "end_station_id                     object\n",
       "end_station_name                   object\n",
       "end_station_latitude              float64\n",
       "end_station_longitude             float64\n",
       "bike_id                            object\n",
       "user_type                        category\n",
       "member_birth_year                 float64\n",
       "member_gender                    category\n",
       "bike_share_for_all_trip            object\n",
       "dtype: object"
      ]
     },
     "execution_count": 14,
     "metadata": {},
     "output_type": "execute_result"
    }
   ],
   "source": [
    "df_clean.dtypes"
   ]
  },
  {
   "cell_type": "markdown",
   "metadata": {},
   "source": [
    "**Define:** Create columns for start_time month,weekday,day and hour "
   ]
  },
  {
   "cell_type": "markdown",
   "metadata": {},
   "source": [
    "**Code**"
   ]
  },
  {
   "cell_type": "code",
   "execution_count": 15,
   "metadata": {},
   "outputs": [],
   "source": [
    "# Extract Month\n",
    "df_clean['start_month'] = df_clean.start_time.dt.strftime('%B')"
   ]
  },
  {
   "cell_type": "code",
   "execution_count": 16,
   "metadata": {},
   "outputs": [],
   "source": [
    "# Extract Weekday\n",
    "df_clean['start_week']=df_clean.start_time.dt.strftime('%a')"
   ]
  },
  {
   "cell_type": "code",
   "execution_count": 17,
   "metadata": {},
   "outputs": [],
   "source": [
    "# Extract Start time Date\n",
    "df_clean['start_day']=df_clean.start_time.dt.day.astype(int)"
   ]
  },
  {
   "cell_type": "code",
   "execution_count": 18,
   "metadata": {},
   "outputs": [],
   "source": [
    "# Extract the hour \n",
    "df_clean['start_hour']=df_clean.start_time.dt.hour"
   ]
  },
  {
   "cell_type": "markdown",
   "metadata": {},
   "source": [
    "**Test**"
   ]
  },
  {
   "cell_type": "code",
   "execution_count": 19,
   "metadata": {},
   "outputs": [
    {
     "data": {
      "text/html": [
       "<div>\n",
       "<style scoped>\n",
       "    .dataframe tbody tr th:only-of-type {\n",
       "        vertical-align: middle;\n",
       "    }\n",
       "\n",
       "    .dataframe tbody tr th {\n",
       "        vertical-align: top;\n",
       "    }\n",
       "\n",
       "    .dataframe thead th {\n",
       "        text-align: right;\n",
       "    }\n",
       "</style>\n",
       "<table border=\"1\" class=\"dataframe\">\n",
       "  <thead>\n",
       "    <tr style=\"text-align: right;\">\n",
       "      <th></th>\n",
       "      <th>duration_sec</th>\n",
       "      <th>start_time</th>\n",
       "      <th>end_time</th>\n",
       "      <th>start_station_id</th>\n",
       "      <th>start_station_name</th>\n",
       "      <th>start_station_latitude</th>\n",
       "      <th>start_station_longitude</th>\n",
       "      <th>end_station_id</th>\n",
       "      <th>end_station_name</th>\n",
       "      <th>end_station_latitude</th>\n",
       "      <th>end_station_longitude</th>\n",
       "      <th>bike_id</th>\n",
       "      <th>user_type</th>\n",
       "      <th>member_birth_year</th>\n",
       "      <th>member_gender</th>\n",
       "      <th>bike_share_for_all_trip</th>\n",
       "      <th>start_month</th>\n",
       "      <th>start_week</th>\n",
       "      <th>start_day</th>\n",
       "      <th>start_hour</th>\n",
       "    </tr>\n",
       "  </thead>\n",
       "  <tbody>\n",
       "    <tr>\n",
       "      <th>151656</th>\n",
       "      <td>1122</td>\n",
       "      <td>2019-02-06 16:54:19.649</td>\n",
       "      <td>2019-02-06 17:13:02.482</td>\n",
       "      <td>343.0</td>\n",
       "      <td>Bryant St at 2nd St</td>\n",
       "      <td>37.783172</td>\n",
       "      <td>-122.393572</td>\n",
       "      <td>119.0</td>\n",
       "      <td>18th St at Noe St</td>\n",
       "      <td>37.761047</td>\n",
       "      <td>-122.432642</td>\n",
       "      <td>4602</td>\n",
       "      <td>Subscriber</td>\n",
       "      <td>1980.0</td>\n",
       "      <td>Male</td>\n",
       "      <td>No</td>\n",
       "      <td>February</td>\n",
       "      <td>Wed</td>\n",
       "      <td>6</td>\n",
       "      <td>16</td>\n",
       "    </tr>\n",
       "    <tr>\n",
       "      <th>49408</th>\n",
       "      <td>411</td>\n",
       "      <td>2019-02-21 21:48:18.869</td>\n",
       "      <td>2019-02-21 21:55:10.168</td>\n",
       "      <td>88.0</td>\n",
       "      <td>11th St at Bryant St</td>\n",
       "      <td>37.770030</td>\n",
       "      <td>-122.411726</td>\n",
       "      <td>58.0</td>\n",
       "      <td>Market St at 10th St</td>\n",
       "      <td>37.776619</td>\n",
       "      <td>-122.417385</td>\n",
       "      <td>1469</td>\n",
       "      <td>Subscriber</td>\n",
       "      <td>1983.0</td>\n",
       "      <td>Male</td>\n",
       "      <td>No</td>\n",
       "      <td>February</td>\n",
       "      <td>Thu</td>\n",
       "      <td>21</td>\n",
       "      <td>21</td>\n",
       "    </tr>\n",
       "    <tr>\n",
       "      <th>61375</th>\n",
       "      <td>1350</td>\n",
       "      <td>2019-02-20 17:31:27.477</td>\n",
       "      <td>2019-02-20 17:53:58.309</td>\n",
       "      <td>130.0</td>\n",
       "      <td>22nd St Caltrain Station</td>\n",
       "      <td>37.757288</td>\n",
       "      <td>-122.392051</td>\n",
       "      <td>16.0</td>\n",
       "      <td>Steuart St at Market St</td>\n",
       "      <td>37.794130</td>\n",
       "      <td>-122.394430</td>\n",
       "      <td>1846</td>\n",
       "      <td>Customer</td>\n",
       "      <td>1984.0</td>\n",
       "      <td>Male</td>\n",
       "      <td>No</td>\n",
       "      <td>February</td>\n",
       "      <td>Wed</td>\n",
       "      <td>20</td>\n",
       "      <td>17</td>\n",
       "    </tr>\n",
       "    <tr>\n",
       "      <th>177780</th>\n",
       "      <td>315</td>\n",
       "      <td>2019-02-01 19:10:40.447</td>\n",
       "      <td>2019-02-01 19:15:55.981</td>\n",
       "      <td>196.0</td>\n",
       "      <td>Grand Ave at Perkins St</td>\n",
       "      <td>37.808894</td>\n",
       "      <td>-122.256460</td>\n",
       "      <td>180.0</td>\n",
       "      <td>Telegraph Ave at 23rd St</td>\n",
       "      <td>37.812678</td>\n",
       "      <td>-122.268773</td>\n",
       "      <td>5514</td>\n",
       "      <td>Subscriber</td>\n",
       "      <td>1978.0</td>\n",
       "      <td>Male</td>\n",
       "      <td>No</td>\n",
       "      <td>February</td>\n",
       "      <td>Fri</td>\n",
       "      <td>1</td>\n",
       "      <td>19</td>\n",
       "    </tr>\n",
       "    <tr>\n",
       "      <th>122759</th>\n",
       "      <td>82</td>\n",
       "      <td>2019-02-11 10:48:00.050</td>\n",
       "      <td>2019-02-11 10:49:22.210</td>\n",
       "      <td>132.0</td>\n",
       "      <td>24th St at Chattanooga St</td>\n",
       "      <td>37.751819</td>\n",
       "      <td>-122.426614</td>\n",
       "      <td>134.0</td>\n",
       "      <td>Valencia St at 24th St</td>\n",
       "      <td>37.752428</td>\n",
       "      <td>-122.420628</td>\n",
       "      <td>2168</td>\n",
       "      <td>Subscriber</td>\n",
       "      <td>1990.0</td>\n",
       "      <td>Male</td>\n",
       "      <td>Yes</td>\n",
       "      <td>February</td>\n",
       "      <td>Mon</td>\n",
       "      <td>11</td>\n",
       "      <td>10</td>\n",
       "    </tr>\n",
       "    <tr>\n",
       "      <th>65411</th>\n",
       "      <td>452</td>\n",
       "      <td>2019-02-20 09:40:18.290</td>\n",
       "      <td>2019-02-20 09:47:51.278</td>\n",
       "      <td>336.0</td>\n",
       "      <td>Potrero Ave and Mariposa St</td>\n",
       "      <td>37.763281</td>\n",
       "      <td>-122.407377</td>\n",
       "      <td>80.0</td>\n",
       "      <td>Townsend St at 5th St</td>\n",
       "      <td>37.775235</td>\n",
       "      <td>-122.397437</td>\n",
       "      <td>3211</td>\n",
       "      <td>Customer</td>\n",
       "      <td>1985.0</td>\n",
       "      <td>Male</td>\n",
       "      <td>No</td>\n",
       "      <td>February</td>\n",
       "      <td>Wed</td>\n",
       "      <td>20</td>\n",
       "      <td>9</td>\n",
       "    </tr>\n",
       "    <tr>\n",
       "      <th>145702</th>\n",
       "      <td>425</td>\n",
       "      <td>2019-02-07 09:21:13.282</td>\n",
       "      <td>2019-02-07 09:28:18.772</td>\n",
       "      <td>3.0</td>\n",
       "      <td>Powell St BART Station (Market St at 4th St)</td>\n",
       "      <td>37.786375</td>\n",
       "      <td>-122.404904</td>\n",
       "      <td>30.0</td>\n",
       "      <td>San Francisco Caltrain (Townsend St at 4th St)</td>\n",
       "      <td>37.776598</td>\n",
       "      <td>-122.395282</td>\n",
       "      <td>4877</td>\n",
       "      <td>Subscriber</td>\n",
       "      <td>1996.0</td>\n",
       "      <td>Male</td>\n",
       "      <td>No</td>\n",
       "      <td>February</td>\n",
       "      <td>Thu</td>\n",
       "      <td>7</td>\n",
       "      <td>9</td>\n",
       "    </tr>\n",
       "    <tr>\n",
       "      <th>138056</th>\n",
       "      <td>271</td>\n",
       "      <td>2019-02-08 08:08:39.014</td>\n",
       "      <td>2019-02-08 08:13:10.244</td>\n",
       "      <td>364.0</td>\n",
       "      <td>China Basin St at 3rd St</td>\n",
       "      <td>37.772000</td>\n",
       "      <td>-122.389970</td>\n",
       "      <td>64.0</td>\n",
       "      <td>5th St at Brannan St</td>\n",
       "      <td>37.776754</td>\n",
       "      <td>-122.399018</td>\n",
       "      <td>5223</td>\n",
       "      <td>Subscriber</td>\n",
       "      <td>1981.0</td>\n",
       "      <td>Male</td>\n",
       "      <td>No</td>\n",
       "      <td>February</td>\n",
       "      <td>Fri</td>\n",
       "      <td>8</td>\n",
       "      <td>8</td>\n",
       "    </tr>\n",
       "    <tr>\n",
       "      <th>45780</th>\n",
       "      <td>421</td>\n",
       "      <td>2019-02-22 11:21:02.187</td>\n",
       "      <td>2019-02-22 11:28:03.542</td>\n",
       "      <td>47.0</td>\n",
       "      <td>4th St at Harrison St</td>\n",
       "      <td>37.780955</td>\n",
       "      <td>-122.399749</td>\n",
       "      <td>28.0</td>\n",
       "      <td>The Embarcadero at Bryant St</td>\n",
       "      <td>37.787168</td>\n",
       "      <td>-122.388098</td>\n",
       "      <td>5398</td>\n",
       "      <td>Subscriber</td>\n",
       "      <td>1979.0</td>\n",
       "      <td>Male</td>\n",
       "      <td>No</td>\n",
       "      <td>February</td>\n",
       "      <td>Fri</td>\n",
       "      <td>22</td>\n",
       "      <td>11</td>\n",
       "    </tr>\n",
       "    <tr>\n",
       "      <th>150563</th>\n",
       "      <td>281</td>\n",
       "      <td>2019-02-06 18:06:15.106</td>\n",
       "      <td>2019-02-06 18:10:56.384</td>\n",
       "      <td>30.0</td>\n",
       "      <td>San Francisco Caltrain (Townsend St at 4th St)</td>\n",
       "      <td>37.776598</td>\n",
       "      <td>-122.395282</td>\n",
       "      <td>89.0</td>\n",
       "      <td>Division St at Potrero Ave</td>\n",
       "      <td>37.769218</td>\n",
       "      <td>-122.407646</td>\n",
       "      <td>5565</td>\n",
       "      <td>Subscriber</td>\n",
       "      <td>1975.0</td>\n",
       "      <td>Male</td>\n",
       "      <td>No</td>\n",
       "      <td>February</td>\n",
       "      <td>Wed</td>\n",
       "      <td>6</td>\n",
       "      <td>18</td>\n",
       "    </tr>\n",
       "  </tbody>\n",
       "</table>\n",
       "</div>"
      ],
      "text/plain": [
       "        duration_sec              start_time                end_time  \\\n",
       "151656          1122 2019-02-06 16:54:19.649 2019-02-06 17:13:02.482   \n",
       "49408            411 2019-02-21 21:48:18.869 2019-02-21 21:55:10.168   \n",
       "61375           1350 2019-02-20 17:31:27.477 2019-02-20 17:53:58.309   \n",
       "177780           315 2019-02-01 19:10:40.447 2019-02-01 19:15:55.981   \n",
       "122759            82 2019-02-11 10:48:00.050 2019-02-11 10:49:22.210   \n",
       "65411            452 2019-02-20 09:40:18.290 2019-02-20 09:47:51.278   \n",
       "145702           425 2019-02-07 09:21:13.282 2019-02-07 09:28:18.772   \n",
       "138056           271 2019-02-08 08:08:39.014 2019-02-08 08:13:10.244   \n",
       "45780            421 2019-02-22 11:21:02.187 2019-02-22 11:28:03.542   \n",
       "150563           281 2019-02-06 18:06:15.106 2019-02-06 18:10:56.384   \n",
       "\n",
       "       start_station_id                              start_station_name  \\\n",
       "151656            343.0                             Bryant St at 2nd St   \n",
       "49408              88.0                            11th St at Bryant St   \n",
       "61375             130.0                        22nd St Caltrain Station   \n",
       "177780            196.0                         Grand Ave at Perkins St   \n",
       "122759            132.0                       24th St at Chattanooga St   \n",
       "65411             336.0                     Potrero Ave and Mariposa St   \n",
       "145702              3.0    Powell St BART Station (Market St at 4th St)   \n",
       "138056            364.0                        China Basin St at 3rd St   \n",
       "45780              47.0                           4th St at Harrison St   \n",
       "150563             30.0  San Francisco Caltrain (Townsend St at 4th St)   \n",
       "\n",
       "        start_station_latitude  start_station_longitude end_station_id  \\\n",
       "151656               37.783172              -122.393572          119.0   \n",
       "49408                37.770030              -122.411726           58.0   \n",
       "61375                37.757288              -122.392051           16.0   \n",
       "177780               37.808894              -122.256460          180.0   \n",
       "122759               37.751819              -122.426614          134.0   \n",
       "65411                37.763281              -122.407377           80.0   \n",
       "145702               37.786375              -122.404904           30.0   \n",
       "138056               37.772000              -122.389970           64.0   \n",
       "45780                37.780955              -122.399749           28.0   \n",
       "150563               37.776598              -122.395282           89.0   \n",
       "\n",
       "                                      end_station_name  end_station_latitude  \\\n",
       "151656                               18th St at Noe St             37.761047   \n",
       "49408                             Market St at 10th St             37.776619   \n",
       "61375                          Steuart St at Market St             37.794130   \n",
       "177780                        Telegraph Ave at 23rd St             37.812678   \n",
       "122759                          Valencia St at 24th St             37.752428   \n",
       "65411                            Townsend St at 5th St             37.775235   \n",
       "145702  San Francisco Caltrain (Townsend St at 4th St)             37.776598   \n",
       "138056                            5th St at Brannan St             37.776754   \n",
       "45780                     The Embarcadero at Bryant St             37.787168   \n",
       "150563                      Division St at Potrero Ave             37.769218   \n",
       "\n",
       "        end_station_longitude bike_id   user_type  member_birth_year  \\\n",
       "151656            -122.432642    4602  Subscriber             1980.0   \n",
       "49408             -122.417385    1469  Subscriber             1983.0   \n",
       "61375             -122.394430    1846    Customer             1984.0   \n",
       "177780            -122.268773    5514  Subscriber             1978.0   \n",
       "122759            -122.420628    2168  Subscriber             1990.0   \n",
       "65411             -122.397437    3211    Customer             1985.0   \n",
       "145702            -122.395282    4877  Subscriber             1996.0   \n",
       "138056            -122.399018    5223  Subscriber             1981.0   \n",
       "45780             -122.388098    5398  Subscriber             1979.0   \n",
       "150563            -122.407646    5565  Subscriber             1975.0   \n",
       "\n",
       "       member_gender bike_share_for_all_trip start_month start_week  \\\n",
       "151656          Male                      No    February        Wed   \n",
       "49408           Male                      No    February        Thu   \n",
       "61375           Male                      No    February        Wed   \n",
       "177780          Male                      No    February        Fri   \n",
       "122759          Male                     Yes    February        Mon   \n",
       "65411           Male                      No    February        Wed   \n",
       "145702          Male                      No    February        Thu   \n",
       "138056          Male                      No    February        Fri   \n",
       "45780           Male                      No    February        Fri   \n",
       "150563          Male                      No    February        Wed   \n",
       "\n",
       "        start_day  start_hour  \n",
       "151656          6          16  \n",
       "49408          21          21  \n",
       "61375          20          17  \n",
       "177780          1          19  \n",
       "122759         11          10  \n",
       "65411          20           9  \n",
       "145702          7           9  \n",
       "138056          8           8  \n",
       "45780          22          11  \n",
       "150563          6          18  "
      ]
     },
     "execution_count": 19,
     "metadata": {},
     "output_type": "execute_result"
    }
   ],
   "source": [
    "df_clean.sample(10)"
   ]
  },
  {
   "cell_type": "markdown",
   "metadata": {},
   "source": [
    "**Define:** \n",
    "Calculate Age for better analysis"
   ]
  },
  {
   "cell_type": "markdown",
   "metadata": {},
   "source": [
    "**Code**"
   ]
  },
  {
   "cell_type": "code",
   "execution_count": 20,
   "metadata": {},
   "outputs": [],
   "source": [
    "#Calculation of age based on birth year\n",
    "df_clean['user_age'] = 2020 - df_clean['member_birth_year']"
   ]
  },
  {
   "cell_type": "markdown",
   "metadata": {},
   "source": [
    "**Test**"
   ]
  },
  {
   "cell_type": "code",
   "execution_count": 21,
   "metadata": {
    "scrolled": true
   },
   "outputs": [
    {
     "data": {
      "text/html": [
       "<div>\n",
       "<style scoped>\n",
       "    .dataframe tbody tr th:only-of-type {\n",
       "        vertical-align: middle;\n",
       "    }\n",
       "\n",
       "    .dataframe tbody tr th {\n",
       "        vertical-align: top;\n",
       "    }\n",
       "\n",
       "    .dataframe thead th {\n",
       "        text-align: right;\n",
       "    }\n",
       "</style>\n",
       "<table border=\"1\" class=\"dataframe\">\n",
       "  <thead>\n",
       "    <tr style=\"text-align: right;\">\n",
       "      <th></th>\n",
       "      <th>duration_sec</th>\n",
       "      <th>start_time</th>\n",
       "      <th>end_time</th>\n",
       "      <th>start_station_id</th>\n",
       "      <th>start_station_name</th>\n",
       "      <th>start_station_latitude</th>\n",
       "      <th>start_station_longitude</th>\n",
       "      <th>end_station_id</th>\n",
       "      <th>end_station_name</th>\n",
       "      <th>end_station_latitude</th>\n",
       "      <th>...</th>\n",
       "      <th>bike_id</th>\n",
       "      <th>user_type</th>\n",
       "      <th>member_birth_year</th>\n",
       "      <th>member_gender</th>\n",
       "      <th>bike_share_for_all_trip</th>\n",
       "      <th>start_month</th>\n",
       "      <th>start_week</th>\n",
       "      <th>start_day</th>\n",
       "      <th>start_hour</th>\n",
       "      <th>user_age</th>\n",
       "    </tr>\n",
       "  </thead>\n",
       "  <tbody>\n",
       "    <tr>\n",
       "      <th>0</th>\n",
       "      <td>52185</td>\n",
       "      <td>2019-02-28 17:32:10.145</td>\n",
       "      <td>2019-03-01 08:01:55.975</td>\n",
       "      <td>21.0</td>\n",
       "      <td>Montgomery St BART Station (Market St at 2nd St)</td>\n",
       "      <td>37.789625</td>\n",
       "      <td>-122.400811</td>\n",
       "      <td>13.0</td>\n",
       "      <td>Commercial St at Montgomery St</td>\n",
       "      <td>37.794231</td>\n",
       "      <td>...</td>\n",
       "      <td>4902</td>\n",
       "      <td>Customer</td>\n",
       "      <td>1984.0</td>\n",
       "      <td>Male</td>\n",
       "      <td>No</td>\n",
       "      <td>February</td>\n",
       "      <td>Thu</td>\n",
       "      <td>28</td>\n",
       "      <td>17</td>\n",
       "      <td>36.0</td>\n",
       "    </tr>\n",
       "    <tr>\n",
       "      <th>1</th>\n",
       "      <td>42521</td>\n",
       "      <td>2019-02-28 18:53:21.789</td>\n",
       "      <td>2019-03-01 06:42:03.056</td>\n",
       "      <td>23.0</td>\n",
       "      <td>The Embarcadero at Steuart St</td>\n",
       "      <td>37.791464</td>\n",
       "      <td>-122.391034</td>\n",
       "      <td>81.0</td>\n",
       "      <td>Berry St at 4th St</td>\n",
       "      <td>37.775880</td>\n",
       "      <td>...</td>\n",
       "      <td>2535</td>\n",
       "      <td>Customer</td>\n",
       "      <td>NaN</td>\n",
       "      <td>NaN</td>\n",
       "      <td>No</td>\n",
       "      <td>February</td>\n",
       "      <td>Thu</td>\n",
       "      <td>28</td>\n",
       "      <td>18</td>\n",
       "      <td>NaN</td>\n",
       "    </tr>\n",
       "    <tr>\n",
       "      <th>2</th>\n",
       "      <td>61854</td>\n",
       "      <td>2019-02-28 12:13:13.218</td>\n",
       "      <td>2019-03-01 05:24:08.146</td>\n",
       "      <td>86.0</td>\n",
       "      <td>Market St at Dolores St</td>\n",
       "      <td>37.769305</td>\n",
       "      <td>-122.426826</td>\n",
       "      <td>3.0</td>\n",
       "      <td>Powell St BART Station (Market St at 4th St)</td>\n",
       "      <td>37.786375</td>\n",
       "      <td>...</td>\n",
       "      <td>5905</td>\n",
       "      <td>Customer</td>\n",
       "      <td>1972.0</td>\n",
       "      <td>Male</td>\n",
       "      <td>No</td>\n",
       "      <td>February</td>\n",
       "      <td>Thu</td>\n",
       "      <td>28</td>\n",
       "      <td>12</td>\n",
       "      <td>48.0</td>\n",
       "    </tr>\n",
       "    <tr>\n",
       "      <th>3</th>\n",
       "      <td>36490</td>\n",
       "      <td>2019-02-28 17:54:26.010</td>\n",
       "      <td>2019-03-01 04:02:36.842</td>\n",
       "      <td>375.0</td>\n",
       "      <td>Grove St at Masonic Ave</td>\n",
       "      <td>37.774836</td>\n",
       "      <td>-122.446546</td>\n",
       "      <td>70.0</td>\n",
       "      <td>Central Ave at Fell St</td>\n",
       "      <td>37.773311</td>\n",
       "      <td>...</td>\n",
       "      <td>6638</td>\n",
       "      <td>Subscriber</td>\n",
       "      <td>1989.0</td>\n",
       "      <td>Other</td>\n",
       "      <td>No</td>\n",
       "      <td>February</td>\n",
       "      <td>Thu</td>\n",
       "      <td>28</td>\n",
       "      <td>17</td>\n",
       "      <td>31.0</td>\n",
       "    </tr>\n",
       "    <tr>\n",
       "      <th>4</th>\n",
       "      <td>1585</td>\n",
       "      <td>2019-02-28 23:54:18.549</td>\n",
       "      <td>2019-03-01 00:20:44.074</td>\n",
       "      <td>7.0</td>\n",
       "      <td>Frank H Ogawa Plaza</td>\n",
       "      <td>37.804562</td>\n",
       "      <td>-122.271738</td>\n",
       "      <td>222.0</td>\n",
       "      <td>10th Ave at E 15th St</td>\n",
       "      <td>37.792714</td>\n",
       "      <td>...</td>\n",
       "      <td>4898</td>\n",
       "      <td>Subscriber</td>\n",
       "      <td>1974.0</td>\n",
       "      <td>Male</td>\n",
       "      <td>Yes</td>\n",
       "      <td>February</td>\n",
       "      <td>Thu</td>\n",
       "      <td>28</td>\n",
       "      <td>23</td>\n",
       "      <td>46.0</td>\n",
       "    </tr>\n",
       "  </tbody>\n",
       "</table>\n",
       "<p>5 rows × 21 columns</p>\n",
       "</div>"
      ],
      "text/plain": [
       "   duration_sec              start_time                end_time  \\\n",
       "0         52185 2019-02-28 17:32:10.145 2019-03-01 08:01:55.975   \n",
       "1         42521 2019-02-28 18:53:21.789 2019-03-01 06:42:03.056   \n",
       "2         61854 2019-02-28 12:13:13.218 2019-03-01 05:24:08.146   \n",
       "3         36490 2019-02-28 17:54:26.010 2019-03-01 04:02:36.842   \n",
       "4          1585 2019-02-28 23:54:18.549 2019-03-01 00:20:44.074   \n",
       "\n",
       "  start_station_id                                start_station_name  \\\n",
       "0             21.0  Montgomery St BART Station (Market St at 2nd St)   \n",
       "1             23.0                     The Embarcadero at Steuart St   \n",
       "2             86.0                           Market St at Dolores St   \n",
       "3            375.0                           Grove St at Masonic Ave   \n",
       "4              7.0                               Frank H Ogawa Plaza   \n",
       "\n",
       "   start_station_latitude  start_station_longitude end_station_id  \\\n",
       "0               37.789625              -122.400811           13.0   \n",
       "1               37.791464              -122.391034           81.0   \n",
       "2               37.769305              -122.426826            3.0   \n",
       "3               37.774836              -122.446546           70.0   \n",
       "4               37.804562              -122.271738          222.0   \n",
       "\n",
       "                               end_station_name  end_station_latitude  ...  \\\n",
       "0                Commercial St at Montgomery St             37.794231  ...   \n",
       "1                            Berry St at 4th St             37.775880  ...   \n",
       "2  Powell St BART Station (Market St at 4th St)             37.786375  ...   \n",
       "3                        Central Ave at Fell St             37.773311  ...   \n",
       "4                         10th Ave at E 15th St             37.792714  ...   \n",
       "\n",
       "   bike_id   user_type member_birth_year  member_gender  \\\n",
       "0     4902    Customer            1984.0           Male   \n",
       "1     2535    Customer               NaN            NaN   \n",
       "2     5905    Customer            1972.0           Male   \n",
       "3     6638  Subscriber            1989.0          Other   \n",
       "4     4898  Subscriber            1974.0           Male   \n",
       "\n",
       "  bike_share_for_all_trip start_month start_week start_day  start_hour  \\\n",
       "0                      No    February        Thu        28          17   \n",
       "1                      No    February        Thu        28          18   \n",
       "2                      No    February        Thu        28          12   \n",
       "3                      No    February        Thu        28          17   \n",
       "4                     Yes    February        Thu        28          23   \n",
       "\n",
       "   user_age  \n",
       "0      36.0  \n",
       "1       NaN  \n",
       "2      48.0  \n",
       "3      31.0  \n",
       "4      46.0  \n",
       "\n",
       "[5 rows x 21 columns]"
      ]
     },
     "execution_count": 21,
     "metadata": {},
     "output_type": "execute_result"
    }
   ],
   "source": [
    "df_clean.head()"
   ]
  },
  {
   "cell_type": "code",
   "execution_count": 22,
   "metadata": {},
   "outputs": [
    {
     "data": {
      "text/html": [
       "<div>\n",
       "<style scoped>\n",
       "    .dataframe tbody tr th:only-of-type {\n",
       "        vertical-align: middle;\n",
       "    }\n",
       "\n",
       "    .dataframe tbody tr th {\n",
       "        vertical-align: top;\n",
       "    }\n",
       "\n",
       "    .dataframe thead th {\n",
       "        text-align: right;\n",
       "    }\n",
       "</style>\n",
       "<table border=\"1\" class=\"dataframe\">\n",
       "  <thead>\n",
       "    <tr style=\"text-align: right;\">\n",
       "      <th></th>\n",
       "      <th>duration_sec</th>\n",
       "      <th>start_station_latitude</th>\n",
       "      <th>start_station_longitude</th>\n",
       "      <th>end_station_latitude</th>\n",
       "      <th>end_station_longitude</th>\n",
       "      <th>member_birth_year</th>\n",
       "      <th>start_day</th>\n",
       "      <th>start_hour</th>\n",
       "      <th>user_age</th>\n",
       "    </tr>\n",
       "  </thead>\n",
       "  <tbody>\n",
       "    <tr>\n",
       "      <th>count</th>\n",
       "      <td>183412.000000</td>\n",
       "      <td>183412.000000</td>\n",
       "      <td>183412.000000</td>\n",
       "      <td>183412.000000</td>\n",
       "      <td>183412.000000</td>\n",
       "      <td>175147.000000</td>\n",
       "      <td>183412.000000</td>\n",
       "      <td>183412.000000</td>\n",
       "      <td>175147.000000</td>\n",
       "    </tr>\n",
       "    <tr>\n",
       "      <th>mean</th>\n",
       "      <td>726.078435</td>\n",
       "      <td>37.771223</td>\n",
       "      <td>-122.352664</td>\n",
       "      <td>37.771427</td>\n",
       "      <td>-122.352250</td>\n",
       "      <td>1984.806437</td>\n",
       "      <td>15.298977</td>\n",
       "      <td>13.458421</td>\n",
       "      <td>35.193563</td>\n",
       "    </tr>\n",
       "    <tr>\n",
       "      <th>std</th>\n",
       "      <td>1794.389780</td>\n",
       "      <td>0.099581</td>\n",
       "      <td>0.117097</td>\n",
       "      <td>0.099490</td>\n",
       "      <td>0.116673</td>\n",
       "      <td>10.116689</td>\n",
       "      <td>8.028187</td>\n",
       "      <td>4.724978</td>\n",
       "      <td>10.116689</td>\n",
       "    </tr>\n",
       "    <tr>\n",
       "      <th>min</th>\n",
       "      <td>61.000000</td>\n",
       "      <td>37.317298</td>\n",
       "      <td>-122.453704</td>\n",
       "      <td>37.317298</td>\n",
       "      <td>-122.453704</td>\n",
       "      <td>1878.000000</td>\n",
       "      <td>1.000000</td>\n",
       "      <td>0.000000</td>\n",
       "      <td>19.000000</td>\n",
       "    </tr>\n",
       "    <tr>\n",
       "      <th>25%</th>\n",
       "      <td>325.000000</td>\n",
       "      <td>37.770083</td>\n",
       "      <td>-122.412408</td>\n",
       "      <td>37.770407</td>\n",
       "      <td>-122.411726</td>\n",
       "      <td>1980.000000</td>\n",
       "      <td>8.000000</td>\n",
       "      <td>9.000000</td>\n",
       "      <td>28.000000</td>\n",
       "    </tr>\n",
       "    <tr>\n",
       "      <th>50%</th>\n",
       "      <td>514.000000</td>\n",
       "      <td>37.780760</td>\n",
       "      <td>-122.398285</td>\n",
       "      <td>37.781010</td>\n",
       "      <td>-122.398279</td>\n",
       "      <td>1987.000000</td>\n",
       "      <td>15.000000</td>\n",
       "      <td>14.000000</td>\n",
       "      <td>33.000000</td>\n",
       "    </tr>\n",
       "    <tr>\n",
       "      <th>75%</th>\n",
       "      <td>796.000000</td>\n",
       "      <td>37.797280</td>\n",
       "      <td>-122.286533</td>\n",
       "      <td>37.797320</td>\n",
       "      <td>-122.288045</td>\n",
       "      <td>1992.000000</td>\n",
       "      <td>22.000000</td>\n",
       "      <td>17.000000</td>\n",
       "      <td>40.000000</td>\n",
       "    </tr>\n",
       "    <tr>\n",
       "      <th>max</th>\n",
       "      <td>85444.000000</td>\n",
       "      <td>37.880222</td>\n",
       "      <td>-121.874119</td>\n",
       "      <td>37.880222</td>\n",
       "      <td>-121.874119</td>\n",
       "      <td>2001.000000</td>\n",
       "      <td>28.000000</td>\n",
       "      <td>23.000000</td>\n",
       "      <td>142.000000</td>\n",
       "    </tr>\n",
       "  </tbody>\n",
       "</table>\n",
       "</div>"
      ],
      "text/plain": [
       "        duration_sec  start_station_latitude  start_station_longitude  \\\n",
       "count  183412.000000           183412.000000            183412.000000   \n",
       "mean      726.078435               37.771223              -122.352664   \n",
       "std      1794.389780                0.099581                 0.117097   \n",
       "min        61.000000               37.317298              -122.453704   \n",
       "25%       325.000000               37.770083              -122.412408   \n",
       "50%       514.000000               37.780760              -122.398285   \n",
       "75%       796.000000               37.797280              -122.286533   \n",
       "max     85444.000000               37.880222              -121.874119   \n",
       "\n",
       "       end_station_latitude  end_station_longitude  member_birth_year  \\\n",
       "count         183412.000000          183412.000000      175147.000000   \n",
       "mean              37.771427            -122.352250        1984.806437   \n",
       "std                0.099490               0.116673          10.116689   \n",
       "min               37.317298            -122.453704        1878.000000   \n",
       "25%               37.770407            -122.411726        1980.000000   \n",
       "50%               37.781010            -122.398279        1987.000000   \n",
       "75%               37.797320            -122.288045        1992.000000   \n",
       "max               37.880222            -121.874119        2001.000000   \n",
       "\n",
       "           start_day     start_hour       user_age  \n",
       "count  183412.000000  183412.000000  175147.000000  \n",
       "mean       15.298977      13.458421      35.193563  \n",
       "std         8.028187       4.724978      10.116689  \n",
       "min         1.000000       0.000000      19.000000  \n",
       "25%         8.000000       9.000000      28.000000  \n",
       "50%        15.000000      14.000000      33.000000  \n",
       "75%        22.000000      17.000000      40.000000  \n",
       "max        28.000000      23.000000     142.000000  "
      ]
     },
     "execution_count": 22,
     "metadata": {},
     "output_type": "execute_result"
    }
   ],
   "source": [
    "df_clean.describe()"
   ]
  },
  {
   "cell_type": "code",
   "execution_count": 23,
   "metadata": {
    "scrolled": false
   },
   "outputs": [
    {
     "data": {
      "text/plain": [
       "duration_sec                  0\n",
       "start_time                    0\n",
       "end_time                      0\n",
       "start_station_id              0\n",
       "start_station_name          197\n",
       "start_station_latitude        0\n",
       "start_station_longitude       0\n",
       "end_station_id                0\n",
       "end_station_name            197\n",
       "end_station_latitude          0\n",
       "end_station_longitude         0\n",
       "bike_id                       0\n",
       "user_type                     0\n",
       "member_birth_year          8265\n",
       "member_gender              8265\n",
       "bike_share_for_all_trip       0\n",
       "start_month                   0\n",
       "start_week                    0\n",
       "start_day                     0\n",
       "start_hour                    0\n",
       "user_age                   8265\n",
       "dtype: int64"
      ]
     },
     "execution_count": 23,
     "metadata": {},
     "output_type": "execute_result"
    }
   ],
   "source": [
    "df_clean.isnull().sum()"
   ]
  },
  {
   "cell_type": "markdown",
   "metadata": {},
   "source": [
    "There are a lot of null values for categorical data and it would be better to remove this data as it can make a huge impact on the analysis as the no. of null values is huge"
   ]
  },
  {
   "cell_type": "code",
   "execution_count": 24,
   "metadata": {},
   "outputs": [],
   "source": [
    "#Remove NaN values\n",
    "df_clean.dropna(inplace=True)"
   ]
  },
  {
   "cell_type": "code",
   "execution_count": 25,
   "metadata": {},
   "outputs": [
    {
     "data": {
      "text/plain": [
       "duration_sec               0\n",
       "start_time                 0\n",
       "end_time                   0\n",
       "start_station_id           0\n",
       "start_station_name         0\n",
       "start_station_latitude     0\n",
       "start_station_longitude    0\n",
       "end_station_id             0\n",
       "end_station_name           0\n",
       "end_station_latitude       0\n",
       "end_station_longitude      0\n",
       "bike_id                    0\n",
       "user_type                  0\n",
       "member_birth_year          0\n",
       "member_gender              0\n",
       "bike_share_for_all_trip    0\n",
       "start_month                0\n",
       "start_week                 0\n",
       "start_day                  0\n",
       "start_hour                 0\n",
       "user_age                   0\n",
       "dtype: int64"
      ]
     },
     "execution_count": 25,
     "metadata": {},
     "output_type": "execute_result"
    }
   ],
   "source": [
    "df_clean.isnull().sum()"
   ]
  },
  {
   "cell_type": "code",
   "execution_count": 26,
   "metadata": {},
   "outputs": [
    {
     "data": {
      "text/plain": [
       "(174952, 21)"
      ]
     },
     "execution_count": 26,
     "metadata": {},
     "output_type": "execute_result"
    }
   ],
   "source": [
    "#View the shape ofthe dataset\n",
    "df_clean.shape"
   ]
  },
  {
   "cell_type": "code",
   "execution_count": 27,
   "metadata": {},
   "outputs": [],
   "source": [
    "#Save cleaned data\n",
    "df_clean.to_csv('master_file.csv',index=False)"
   ]
  },
  {
   "cell_type": "markdown",
   "metadata": {},
   "source": [
    "### What is the structure of your dataset?\n",
    "There were around 183412 rows out of which 8265 were observed to be NaN values. After cleaning, the dataset has 174952 observations. \n",
    "\n",
    "There were 16 columns before cleaning, I have added few more columns for better analysis.After cleaning, the dataset consists 27 columns.\n",
    "The columns involved in the dataset are 'duration_sec', 'start_time', 'end_time', 'start_station_id',\n",
    "       'start_station_name', 'start_station_latitude',\n",
    "       'start_station_longitude', 'end_station_id', 'end_station_name',\n",
    "       'end_station_latitude', 'end_station_longitude', 'bike_id', 'user_type',\n",
    "       'member_birth_year', 'member_gender', 'bike_share_for_all_trip',\n",
    "       'start_time_month_name', 'start_time_month', 'start_time_weekday',\n",
    "       'start_time_day', 'start_time_hour', 'member_age', 'start_month',\n",
    "       'start_week', 'start_day', 'start_hour', 'user_age'"
   ]
  },
  {
   "cell_type": "markdown",
   "metadata": {},
   "source": [
    "### What is/are the main feature(s) of interest in your dataset?\n",
    "The main features in this dataset seems to be the duration , start time,user type,gender which could be analyzed to answer most of the questions. "
   ]
  },
  {
   "cell_type": "markdown",
   "metadata": {},
   "source": [
    "### What features in the dataset do you think will help support your investigation into your feature(s) of interest?\n",
    "According to me, I think that the start time and start weekday would make the analysis better and also considering the user_type and how do all the features vary according to the user_type."
   ]
  },
  {
   "cell_type": "markdown",
   "metadata": {},
   "source": [
    "## 4. Univariate Exploration "
   ]
  },
  {
   "cell_type": "markdown",
   "metadata": {},
   "source": [
    "It is a good way to start the weekly , hourly and the trip duration analysis for this dataset"
   ]
  },
  {
   "cell_type": "code",
   "execution_count": 28,
   "metadata": {},
   "outputs": [
    {
     "data": {
      "image/png": "[encoded data removed]",
      "text/plain": [
       "<Figure size 432x288 with 1 Axes>"
      ]
     },
     "metadata": {
      "needs_background": "light"
     },
     "output_type": "display_data"
    }
   ],
   "source": [
    "#Weekly usage of the bike sharing system\n",
    "base_color = sns.color_palette()[0]\n",
    "weekday = ['Mon', 'Tue', 'Wed', 'Thu', 'Fri', 'Sat', 'Sun']\n",
    "g = sns.countplot(data=df_clean,x='start_week',color=base_color,order=weekday)\n",
    "g.set(xlabel = \"Week\",ylabel = \"No, of Trips\")\n",
    "plt.title('Weekly usage of the bike share system');"
   ]
  },
  {
   "cell_type": "markdown",
   "metadata": {},
   "source": [
    "Thursday is observed to have the maximum usage of bike share system.But, the most important observation to be noted is that weekends have a low usage of bike share system which could have been because of non-working day for school/work."
   ]
  },
  {
   "cell_type": "code",
   "execution_count": 29,
   "metadata": {},
   "outputs": [
    {
     "data": {
      "image/png": "[encoded data removed]",
      "text/plain": [
       "<Figure size 432x288 with 1 Axes>"
      ]
     },
     "metadata": {
      "needs_background": "light"
     },
     "output_type": "display_data"
    }
   ],
   "source": [
    "#Hourly usage of the bike share system\n",
    "g = sns.countplot(data=df_clean, x='start_hour', color = base_color)\n",
    "g.set(xlabel = \"Hour\",ylabel = \"No, of Trips\")\n",
    "plt.title('Hourly usage of the bike share system');"
   ]
  },
  {
   "cell_type": "markdown",
   "metadata": {},
   "source": [
    "There has been a huge amount of users starting  at 8am - 9am and 6pm to 7pm. This is beacause most of the people tend to go to work and get back to home at these times. "
   ]
  },
  {
   "cell_type": "code",
   "execution_count": 30,
   "metadata": {},
   "outputs": [
    {
     "data": {
      "image/png": "[encoded data removed]",
      "text/plain": [
       "<Figure size 720x432 with 1 Axes>"
      ]
     },
     "metadata": {
      "needs_background": "light"
     },
     "output_type": "display_data"
    }
   ],
   "source": [
    "#Duration of trip \n",
    "bins = np.arange(0, df['duration_sec'].max()+500, 500)\n",
    "\n",
    "plt.figure(figsize=[10, 6])\n",
    "plt.hist(data = df, x = 'duration_sec', bins = bins)\n",
    "plt.title('No. of trips based on the duration of the trip')\n",
    "plt.xlabel('Duration(Seconds)')\n",
    "plt.ylabel('Number of Trips')\n",
    "plt.axis([-500, 10000, 0, 90000])\n",
    "plt.show()"
   ]
  },
  {
   "cell_type": "markdown",
   "metadata": {},
   "source": [
    "This graph does not seem convincing.Let us convert it to log scale"
   ]
  },
  {
   "cell_type": "code",
   "execution_count": 31,
   "metadata": {},
   "outputs": [
    {
     "name": "stderr",
     "output_type": "stream",
     "text": [
      "/home/abhishek/.local/lib/python3.6/site-packages/ipykernel_launcher.py:10: UserWarning: Attempted to set non-positive left xlim on a log-scaled axis.\n",
      "Invalid limit will be ignored.\n",
      "  # Remove the CWD from sys.path while we load stuff.\n"
     ]
    },
    {
     "data": {
      "image/png": "[encoded data removed]",
      "text/plain": [
       "<Figure size 720x432 with 1 Axes>"
      ]
     },
     "metadata": {
      "needs_background": "light"
     },
     "output_type": "display_data"
    }
   ],
   "source": [
    "bins_log = 10 ** np.arange(2.4, np.log10(df['duration_sec'].max()) + 0.05, 0.05)\n",
    "\n",
    "plt.figure(figsize=[10, 6])\n",
    "plt.hist(data = df, x = 'duration_sec', bins = bins_log)\n",
    "plt.title('No. of trips based on the duration of the trip')\n",
    "plt.xlabel('Duration(Seconds)')\n",
    "plt.ylabel('Number of Trips')\n",
    "plt.xscale('log')\n",
    "plt.xticks([500, 1e3, 2e3, 5e3, 1e4], [500, 1000,2000,5000,10000])\n",
    "plt.axis([0, 10000, 0, 15000])\n",
    "plt.show()"
   ]
  },
  {
   "cell_type": "markdown",
   "metadata": {},
   "source": [
    "Trip duration is mostly centered on values which are less than 1800 seconds(30 mins) with peak around 600 seconds(10 mins). Number of Trips values first increases starting from around 8000 values to 12500 values at around 600 seconds but then starts to fall below at 2000 values under 2000 seconds."
   ]
  },
  {
   "cell_type": "code",
   "execution_count": 41,
   "metadata": {},
   "outputs": [
    {
     "data": {
      "image/png": "[encoded data removed]",
      "text/plain": [
       "<Figure size 1440x576 with 1 Axes>"
      ]
     },
     "metadata": {
      "needs_background": "light"
     },
     "output_type": "display_data"
    }
   ],
   "source": [
    "# Starting station plot\n",
    "bins = np.arange(0, df['start_station_id'].astype(float).max()+1.5, 1.5)\n",
    "\n",
    "plt.figure(figsize=[20, 8])\n",
    "plt.xticks(range(0, 500, 10))\n",
    "plt.hist(data = df.dropna(), x = 'start_station_id', bins = bins)\n",
    "plt.title('Distribution of Start Stations')\n",
    "plt.xlabel('Start Station')\n",
    "plt.ylabel('Number of Stations')\n",
    "plt.show()"
   ]
  },
  {
   "cell_type": "code",
   "execution_count": 44,
   "metadata": {
    "scrolled": false
   },
   "outputs": [
    {
     "data": {
      "image/png": "[encoded data removed]",
      "text/plain": [
       "<Figure size 1440x576 with 1 Axes>"
      ]
     },
     "metadata": {
      "needs_background": "light"
     },
     "output_type": "display_data"
    }
   ],
   "source": [
    "# Ending station plot\n",
    "bins = np.arange(0, df['end_station_id'].astype(float).max()+1.5, 1.5)\n",
    "\n",
    "plt.figure(figsize=[20, 8])\n",
    "plt.xticks(range(0, 402, 10))\n",
    "plt.hist(data = df.dropna(), x = 'end_station_id', bins = bins)\n",
    "plt.title('Distribution of End Stations')\n",
    "plt.xlabel('End Station')\n",
    "plt.ylabel('Number of Stations')\n",
    "plt.show()\n"
   ]
  },
  {
   "cell_type": "markdown",
   "metadata": {},
   "source": [
    "In the case of start and end station, as you can see, the start stations and end stations are same."
   ]
  },
  {
   "cell_type": "code",
   "execution_count": 40,
   "metadata": {},
   "outputs": [
    {
     "data": {
      "image/png": "[encoded data removed]",
      "text/plain": [
       "<Figure size 720x360 with 1 Axes>"
      ]
     },
     "metadata": {
      "needs_background": "light"
     },
     "output_type": "display_data"
    }
   ],
   "source": [
    "# No. of users by comparing with the age\n",
    "bins = np.arange(0, df['member_birth_year'].astype(float).max()+1, 1)\n",
    "\n",
    "plt.figure(figsize=[10, 5])\n",
    "plt.hist(data = df.dropna(), x = 'member_birth_year', bins = bins)\n",
    "plt.axis([1939, 2009, 0, 12000])\n",
    "plt.xticks([1939, 1949, 1959, 1969, 1979, 1989, 1999, 2009], [(2019-1939), (2019-1949), (2019-1959), (2019-1969), (2019-1979), (2019-1989), (2019-1999), (2019-2009)])\n",
    "plt.gca().invert_xaxis()\n",
    "plt.title('Distribution of User Age')\n",
    "plt.xlabel('Age')\n",
    "plt.ylabel('Number of Users')\n",
    "plt.show()\n"
   ]
  },
  {
   "cell_type": "markdown",
   "metadata": {},
   "source": [
    "In the case of age, you can see that the distribution is more concentrated between 20 to 40 years old."
   ]
  },
  {
   "cell_type": "code",
   "execution_count": 46,
   "metadata": {},
   "outputs": [
    {
     "data": {
      "image/png": "[encoded data removed]",
      "text/plain": [
       "<Figure size 720x432 with 1 Axes>"
      ]
     },
     "metadata": {
      "needs_background": "light"
     },
     "output_type": "display_data"
    }
   ],
   "source": [
    "# Plot No. of users compared with genders\n",
    "plt.figure(figsize=[10,6])\n",
    "plt.bar(x = df_clean.member_gender.value_counts().keys(), height = df_clean.member_gender.value_counts() )\n",
    "plt.title('Distribution of Gender')\n",
    "plt.xlabel('Gender')\n",
    "plt.ylabel('Number of Users')\n",
    "plt.show()"
   ]
  },
  {
   "cell_type": "markdown",
   "metadata": {},
   "source": [
    "Male have been dominating in this aspect to use share bike"
   ]
  },
  {
   "cell_type": "markdown",
   "metadata": {},
   "source": [
    "### Discuss the distribution(s) of your variable(s) of interest. Were there any unusual points? Did you need to perform any transformations?<br>\n",
    "The trip duration is concentrated near 600secs(10 mins) and then slowly decreases with an increase of duration"
   ]
  },
  {
   "cell_type": "markdown",
   "metadata": {},
   "source": [
    "### Of the features you investigated, were there any unusual distributions? Did you perform any operations on the data to tidy, adjust, or change the form of the data? If so, why did you do this?\n",
    "\n",
    "When investigating the Birth year variables, Birth year is converted by substracting the year from current year in order to give the distibution for age to have  a better analysis. In addtion, start station and end station have been plotted in a larger plot so that it gives a better understanding of the plot for analysing."
   ]
  },
  {
   "cell_type": "markdown",
   "metadata": {},
   "source": [
    "## 5. Bivariate Exploration"
   ]
  },
  {
   "cell_type": "markdown",
   "metadata": {},
   "source": [
    "**Analysis based on User Type**"
   ]
  },
  {
   "cell_type": "code",
   "execution_count": 47,
   "metadata": {},
   "outputs": [],
   "source": [
    "# Calculation of % split for the user type\n",
    "customer = df_clean.query('user_type == \"Customer\"')['bike_id'].shape[0]\n",
    "subscriber = df_clean.query('user_type == \"Subscriber\"')['bike_id'].shape[0]\n",
    "\n",
    "customer_proportion = customer / df_clean['bike_id'].shape[0]\n",
    "subscriber_proportion = subscriber / df_clean['bike_id'].shape[0]"
   ]
  },
  {
   "cell_type": "code",
   "execution_count": 57,
   "metadata": {},
   "outputs": [
    {
     "data": {
      "image/png": "[encoded data removed]",
      "text/plain": [
       "<Figure size 720x360 with 1 Axes>"
      ]
     },
     "metadata": {},
     "output_type": "display_data"
    }
   ],
   "source": [
    "plt.figure(figsize = [10, 5])\n",
    "\n",
    "# Pie Chart for User Type\n",
    "plt.subplot(1, 2, 2)\n",
    "\n",
    "labels = ['Customer', 'Subscriber']\n",
    "sizes = [customer_proportion, subscriber_proportion]\n",
    "explode = (0, 0.1)\n",
    "\n",
    "plt.pie(sizes, explode=explode, labels=labels, \n",
    "        autopct='%1.1f%%', shadow=True, startangle=90)\n",
    "plt.axis('equal')\n",
    "\n",
    "plt.suptitle('User Type for GoBike sharing system',fontweight='bold');"
   ]
  },
  {
   "cell_type": "markdown",
   "metadata": {},
   "source": [
    "This clearly shows that there are huge number of subscribers when compared to customers who use bike share service."
   ]
  },
  {
   "cell_type": "code",
   "execution_count": 99,
   "metadata": {},
   "outputs": [
    {
     "data": {
      "image/png": "[encoded data removed]",
      "text/plain": [
       "<Figure size 432x288 with 1 Axes>"
      ]
     },
     "metadata": {
      "needs_background": "light"
     },
     "output_type": "display_data"
    }
   ],
   "source": [
    "# Weekly usage of the bike sharing system per user type\n",
    "sns.countplot(data=df_clean, x='start_week', hue='user_type');\n",
    "plt.xlabel('Day of Week');\n",
    "plt.ylabel('No. of Trips');"
   ]
  },
  {
   "cell_type": "markdown",
   "metadata": {},
   "source": [
    "The graph shows that there is a difference in No. of trips for different user types.For Customers, as they may travel ocassionally and would use bikes on holidays.But when it comes to the subcribers, they use this daily to go to work/school and would not use it during weekends as there would be holidays."
   ]
  },
  {
   "cell_type": "code",
   "execution_count": 97,
   "metadata": {},
   "outputs": [
    {
     "data": {
      "image/png": "[encoded data removed]",
      "text/plain": [
       "<Figure size 720x360 with 2 Axes>"
      ]
     },
     "metadata": {
      "needs_background": "light"
     },
     "output_type": "display_data"
    }
   ],
   "source": [
    "# Hourly usege of the bike sharing system per user type\n",
    "g = sns.catplot(data=df_clean, x='start_hour', col=\"user_type\", kind='count', sharey = False,\n",
    "            color = base_color)\n",
    "g.set_axis_labels(\"Hour\", \"No. of Trips\")\n",
    "g.set_titles(\"{col_name}\")\n",
    "g.fig.suptitle('Hourly usage of the bike share system per user type', y=1.05, fontweight='bold');"
   ]
  },
  {
   "cell_type": "markdown",
   "metadata": {},
   "source": [
    "From the above graph, we can say that subscribers travel from 8-9am frequently as the work/school would start and would come back at 5-6pm. But for the customers , they seem to travel in between 8am - 6pm randomly."
   ]
  },
  {
   "cell_type": "code",
   "execution_count": 77,
   "metadata": {
    "scrolled": false
   },
   "outputs": [
    {
     "name": "stderr",
     "output_type": "stream",
     "text": [
      "/home/abhishek/.local/lib/python3.6/site-packages/seaborn/axisgrid.py:243: UserWarning: The `size` parameter has been renamed to `height`; please update your code.\n",
      "  warnings.warn(msg, UserWarning)\n"
     ]
    },
    {
     "data": {
      "image/png": "[encoded data removed]",
      "text/plain": [
       "<Figure size 720x360 with 2 Axes>"
      ]
     },
     "metadata": {
      "needs_background": "light"
     },
     "output_type": "display_data"
    }
   ],
   "source": [
    "# Histogram for Duration(Sec) for User Types\n",
    "g = sns.FacetGrid(df_clean, col=\"user_type\", margin_titles=True, size=5)\n",
    "bin_edges = np.arange(0, 3000,60)\n",
    "g.map(plt.hist, \"duration_sec\", color=base_color, bins=bin_edges)\n",
    "g.set_axis_labels(\"Duration (sec)\", \"No .of Trips\")\n",
    "g.set_titles(col_template = '{col_name}')\n",
    "g.fig.suptitle('Trip Duration(Sec) for user type', y=1.04,fontweight='bold');"
   ]
  },
  {
   "cell_type": "code",
   "execution_count": 92,
   "metadata": {},
   "outputs": [
    {
     "data": {
      "image/png": "[encoded data removed]",
      "text/plain": [
       "<Figure size 720x360 with 2 Axes>"
      ]
     },
     "metadata": {
      "needs_background": "light"
     },
     "output_type": "display_data"
    }
   ],
   "source": [
    "# Violin Plot for Duration for User Type\n",
    "data = df_clean.query('duration_sec < 3000')\n",
    "g = sns.catplot(data=data, y='duration_sec', col=\"user_type\", kind='violin',\n",
    "            color = base_color)\n",
    "g.set_titles(col_template = '{col_name}')\n",
    "g.set_axis_labels(\"\", \"Trip duration (sec)\")\n",
    "g.fig.suptitle('Trip Duration(Secs) for User type Violin Plot', y=1.05, fontweight='bold');\n"
   ]
  },
  {
   "cell_type": "markdown",
   "metadata": {},
   "source": [
    "From the above viloinplots, we can see that the trip durations are longer for customers when compared to subscribers.The reason for it would be that the work place would have been near to their home.The customers travel randomly to various places and would have had longer trip duration"
   ]
  },
  {
   "cell_type": "code",
   "execution_count": 84,
   "metadata": {
    "scrolled": true
   },
   "outputs": [
    {
     "data": {
      "image/png": "[encoded data removed]",
      "text/plain": [
       "<Figure size 864x432 with 1 Axes>"
      ]
     },
     "metadata": {
      "needs_background": "light"
     },
     "output_type": "display_data"
    }
   ],
   "source": [
    "#Duration of Trip for various genders\n",
    "plt.figure(figsize = [12, 6])\n",
    "base_color = sns.color_palette()[0]\n",
    "sns.boxplot(data = df, x = 'member_gender', y = 'duration_sec', color = base_color)\n",
    "plt.ylim([-10, 2000])\n",
    "plt.title('Trip Duration and Gender')\n",
    "plt.xlabel('Gender')\n",
    "plt.ylabel('Duration(Seconds)')\n",
    "plt.show()"
   ]
  },
  {
   "cell_type": "markdown",
   "metadata": {},
   "source": [
    "Interestingly, we can see that higher percentage of female and other rides longer trips then males although number of male riders are very high then other and female."
   ]
  },
  {
   "cell_type": "markdown",
   "metadata": {},
   "source": [
    "### Talk about some of the relationships you observed in this part of the investigation. How did the feature(s) of interest vary with other features in the dataset?\n",
    "Comparing the user type to the analysis depicted different usage behaviours between customers and subscribers. From the above analysis, customers are casual riders, most probably tourists who rent bikes more often during weekends than weekdays and they rent bikes more often within the day rather than around commute hours (8-9am and 5-6pm). Subscribers use this service daily. They rent bikes more often during weekdays than weekends and mainly around the time they go and go back from work or school (8-9am and 5-6pm)."
   ]
  },
  {
   "cell_type": "markdown",
   "metadata": {},
   "source": [
    "### Did you observe any interesting relationships between the other features (not the main feature(s) of interest)?\n",
    "It is observed that there is a difference in trip duration for different user type. Customers trips are usually longer than for subscribers, most probably due to the fact they prefer bike rides around weekend. Subscribers on the other hand use the system mainly to go to work and rarely for additonal purposes."
   ]
  },
  {
   "cell_type": "markdown",
   "metadata": {},
   "source": [
    "## 6. Multivariate Exploration"
   ]
  },
  {
   "cell_type": "markdown",
   "metadata": {},
   "source": [
    "Let us add gender to the already existing analysis for a better analysis"
   ]
  },
  {
   "cell_type": "code",
   "execution_count": 86,
   "metadata": {},
   "outputs": [
    {
     "data": {
      "image/png": "[encoded data removed]",
      "text/plain": [
       "<Figure size 720x360 with 1 Axes>"
      ]
     },
     "metadata": {
      "needs_background": "light"
     },
     "output_type": "display_data"
    }
   ],
   "source": [
    "plt.figure(figsize = [10, 5])\n",
    "\n",
    "#Plot Bar graphs consisting genders\n",
    "plt.subplot(1, 2, 1)\n",
    "\n",
    "g = sns.countplot(data=df_clean, x=\"user_type\", hue=\"member_gender\")\n",
    "g.set_xlabel('User Type')\n",
    "g.set_ylabel('No. of Trips');"
   ]
  },
  {
   "cell_type": "markdown",
   "metadata": {},
   "source": [
    "Males utilise this service more when compared to other genders."
   ]
  },
  {
   "cell_type": "code",
   "execution_count": 90,
   "metadata": {},
   "outputs": [
    {
     "data": {
      "image/png": "[encoded data removed]",
      "text/plain": [
       "<Figure size 810.375x360 with 2 Axes>"
      ]
     },
     "metadata": {
      "needs_background": "light"
     },
     "output_type": "display_data"
    }
   ],
   "source": [
    "# Weekly usage of bike service by various genders\n",
    "g = sns.catplot(data=df_clean, x='start_week', col=\"user_type\", hue='member_gender', kind='count', sharey = False,\n",
    "                order = weekday)\n",
    "g.set_axis_labels(\"Weekday\", \"No. of Trips\")\n",
    "g._legend.set_title('Gender')\n",
    "g.set_titles(\"{col_name}\")\n",
    "g.fig.suptitle('Weekly usage of bike service by various genders ', y=1.05, fontweight='bold');"
   ]
  },
  {
   "cell_type": "markdown",
   "metadata": {},
   "source": [
    "As in the previous section, the trend is very similar for males and females: customers use the system more often during weekends than within a week (although the jump in bike used on weekends is much higher for females than for males); subscribers use the system mainly within a week."
   ]
  },
  {
   "cell_type": "code",
   "execution_count": 101,
   "metadata": {},
   "outputs": [
    {
     "data": {
      "image/png": "[encoded data removed]",
      "text/plain": [
       "<Figure size 810.375x360 with 2 Axes>"
      ]
     },
     "metadata": {
      "needs_background": "light"
     },
     "output_type": "display_data"
    }
   ],
   "source": [
    "# Hourly usage of the bike sharing system per user type and gender\n",
    "g = sns.catplot(data=df_clean, x='start_hour', col=\"user_type\", hue='member_gender', kind='count', sharey = False)\n",
    "g.set_axis_labels(\"Hour\", \"Bike Trips\")\n",
    "g._legend.set_title('Gender')\n",
    "g.set_titles(\"{col_name}\")\n",
    "g.fig.suptitle('Hourly usage of the bike share system per user type and gender', y=1.03, fontsize=14, fontweight='semibold');"
   ]
  },
  {
   "cell_type": "markdown",
   "metadata": {},
   "source": [
    "During the day, both males and females use the system the same way: customers use bikes mainly between 8 am - 7 pm; subscribers on the other side use the system at around 8-9am and 5-6pm when they go and come back from work."
   ]
  },
  {
   "cell_type": "code",
   "execution_count": 103,
   "metadata": {},
   "outputs": [
    {
     "data": {
      "image/png": "[encoded data removed]",
      "text/plain": [
       "<Figure size 450.375x360 with 1 Axes>"
      ]
     },
     "metadata": {
      "needs_background": "light"
     },
     "output_type": "display_data"
    }
   ],
   "source": [
    "# Violin plot\n",
    "\n",
    "g = sns.catplot(data=data, x='user_type', y=\"duration_sec\", hue=\"member_gender\", kind=\"violin\",inner='quartile')\n",
    "\n",
    "g.set_axis_labels(\"User Type\", \"Trip duration (sec)\")\n",
    "g._legend.set_title('Gender')\n",
    "g.fig.suptitle('Trip duration per user type and gender', y=1.05,fontweight='bold');"
   ]
  },
  {
   "cell_type": "markdown",
   "metadata": {},
   "source": [
    "Here we can observe that in both cases, females take longer trips (measured in time) than males and other. The difference is more visible for customers (~13 min for males and other vs ~15 for females) than for subscribers (the difference is quite small)."
   ]
  },
  {
   "cell_type": "code",
   "execution_count": 115,
   "metadata": {
    "scrolled": false
   },
   "outputs": [
    {
     "data": {
      "image/png": "[encoded data removed]",
      "text/plain": [
       "<Figure size 648x576 with 4 Axes>"
      ]
     },
     "metadata": {
      "needs_background": "light"
     },
     "output_type": "display_data"
    }
   ],
   "source": [
    "# Week order\n",
    "df_clean['start_week'] = pd.Categorical(df_clean['start_week'], \n",
    "                                                categories=['Mon','Tue','Wed','Thu','Fri','Sat', 'Sun'], \n",
    "                                                ordered=True)\n",
    "plt.figure(figsize=(9,8))\n",
    "plt.suptitle('Hourly usage during the weekday for customers and subscribers', fontsize=14, fontweight='semibold')\n",
    "# Heat Map for customers\n",
    "plt.subplot(1, 2, 1)\n",
    "df_customer = df_clean.query('user_type == \"Customer\"').groupby([\"start_hour\", \"start_week\"])[\"bike_id\"].size().reset_index()\n",
    "df_customer = df_customer.pivot(\"start_hour\", \"start_week\", \"bike_id\")\n",
    "sns.heatmap(df_customer, cmap=\"rocket_r\")\n",
    "plt.title(\"Customer\", y=1.015)\n",
    "plt.xlabel('Weekday')\n",
    "plt.ylabel('Start Time Hour')\n",
    "# HeatMap for subscribers\n",
    "plt.subplot(1, 2, 2)\n",
    "df_subscriber = df_clean.query('user_type == \"Subscriber\"').groupby([\"start_hour\", \"start_week\"])[\"bike_id\"].size().reset_index()\n",
    "df_subscriber = df_subscriber.pivot(\"start_hour\", \"start_week\", \"bike_id\")\n",
    "sns.heatmap(df_subscriber, cmap=\"rocket_r\")\n",
    "plt.title(\"Subscriber\", y=1.015)\n",
    "plt.xlabel('Weekday')\n",
    "plt.ylabel('');"
   ]
  },
  {
   "cell_type": "markdown",
   "metadata": {},
   "source": [
    "**Customer:** <br>\n",
    "The heatmap shows that Cutomer uses the service all the days randomly and would travel any time in the day from 8am - 6pm."
   ]
  },
  {
   "cell_type": "markdown",
   "metadata": {},
   "source": [
    "**Subscribers:** <br>\n",
    "They use the bike sharing service regularly during weekdays and less during weekends.The starting time is highly shaded near 8-9am and end time at around 5-6pm."
   ]
  },
  {
   "cell_type": "markdown",
   "metadata": {},
   "source": [
    "### Talk about some of the relationships you observed in this part of the investigation. Were there features that strengthened each other in terms of looking at your feature(s) of interest?\n",
    "The multivariate exploration helped in discovering new analysis when compared to the previous bivariate exploration as well as univariate exploration, the relationship between the multiple variables plotted are visualized altogether and information are presented combined. Subscribers utilise the service mainly in weekdays and more often at two partivular time intevals which would have been because of the wirk timings. Whereas customers, they are not much in number when compared to subscribers and they utilise this service when required and would travel for a high trip duration when compared to subscribers."
   ]
  },
  {
   "cell_type": "markdown",
   "metadata": {},
   "source": [
    "### Were there any interesting or surprising interactions between features?\n",
    "There was a regular trend in the timings in various analysis but one of them in gender specification , it was observed that female have taken longer trips on an average when compared  to men."
   ]
  }
 ],
 "metadata": {
  "kernelspec": {
   "display_name": "Python 3",
   "language": "python",
   "name": "python3"
  },
  "language_info": {
   "codemirror_mode": {
    "name": "ipython",
    "version": 3
   },
   "file_extension": ".py",
   "mimetype": "text/x-python",
   "name": "python",
   "nbconvert_exporter": "python",
   "pygments_lexer": "ipython3",
   "version": "3.6.9"
  }
 },
 "nbformat": 4,
 "nbformat_minor": 4
}
