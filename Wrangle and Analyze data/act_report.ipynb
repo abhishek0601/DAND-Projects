{
 "cells": [
  {
   "cell_type": "markdown",
   "metadata": {},
   "source": [
    "# Wrangle and Analyse Datas \n",
    "​\n",
    "## Introduction:\n",
    "​\n",
    "> This project involves wrangling data from various sources associated with tweets from the twitter account @dog_rates. WeRateDogs rate's pictures of users' dogs in a humorous manner. Most often they give rating more than 10/10. <br> <br>\n",
    "> After scraping the data from various sources listed in the Udacity's Project Details, the data was cleaned after identifying the quality and tidiness issues. <br> <br>\n",
    "> Three visualisations were created to analyse the data."
   ]
  },
  {
   "cell_type": "markdown",
   "metadata": {},
   "source": [
    "# Visualisations"
   ]
  },
  {
   "cell_type": "markdown",
   "metadata": {},
   "source": [
    "## 1. Avg Rating Vs Dog Stage"
   ]
  },
  {
   "cell_type": "markdown",
   "metadata": {},
   "source": [
    "* Ratings were standardised and then average was taken based on each dog stage and then the plot was made for analysis."
   ]
  },
  {
   "cell_type": "markdown",
   "metadata": {},
   "source": [
    "![RatingVsDogStage.png](RatingVsDogStage.png)"
   ]
  },
  {
   "cell_type": "markdown",
   "metadata": {},
   "source": [
    "### Observations: \n",
    "* It can be observed that floofer dog stage was given high ratings when compared to others.\n",
    "* Pupper has the least average rating when compared to others."
   ]
  },
  {
   "cell_type": "markdown",
   "metadata": {},
   "source": [
    "## 2. Rating over Time"
   ]
  },
  {
   "cell_type": "markdown",
   "metadata": {},
   "source": [
    "![RatingVsTime.png](RatingVsTime.png)"
   ]
  },
  {
   "cell_type": "markdown",
   "metadata": {},
   "source": [
    "* Some of the dogs are given rating higher than 10.\n",
    "* I assumed that almost all dogs were given a rating higher than 10. But, some of the ratings were below 10 too.\n",
    "* So, I standardized the ratings by dividing numerator by denominator.\n",
    "* I fixed my relative rating range from 0-2 since there were outliers like 42 and 177.6"
   ]
  },
  {
   "cell_type": "markdown",
   "metadata": {},
   "source": [
    "### Observations:\n",
    "* Overtime the frequency of ratings below 1 decreases.\n",
    "* Before 2016-11 there are many ratings below 1. After that they are lessin count."
   ]
  },
  {
   "cell_type": "markdown",
   "metadata": {},
   "source": [
    "## 3. Favorite vs Retweet Count"
   ]
  },
  {
   "cell_type": "markdown",
   "metadata": {},
   "source": [
    "![FavVsRetweet.png](FavVsRetweet.png)"
   ]
  },
  {
   "cell_type": "markdown",
   "metadata": {},
   "source": [
    "* WeRateDogs have over 4 million followers. Thereforre their tweets are likely to gey many favorites and retweets."
   ]
  },
  {
   "cell_type": "markdown",
   "metadata": {},
   "source": [
    "### Observations:\n",
    "* It can be obserevd that favorite and retweet counts are highly positvely correlated.\n",
    "* For every 4 favorites there is 1 retweet.\n",
    "* Majority of data falls below 40000 favorites and 10000 retweets.\n",
    "* Most popular tweet has 130000 favorites and 80000 retweets."
   ]
  },
  {
   "cell_type": "code",
   "execution_count": null,
   "metadata": {},
   "outputs": [],
   "source": []
  }
 ],
 "metadata": {
  "kernelspec": {
   "display_name": "Python 3",
   "language": "python",
   "name": "python3"
  },
  "language_info": {
   "codemirror_mode": {
    "name": "ipython",
    "version": 3
   },
   "file_extension": ".py",
   "mimetype": "text/x-python",
   "name": "python",
   "nbconvert_exporter": "python",
   "pygments_lexer": "ipython3",
   "version": "3.6.3"
  }
 },
 "nbformat": 4,
 "nbformat_minor": 2
}
